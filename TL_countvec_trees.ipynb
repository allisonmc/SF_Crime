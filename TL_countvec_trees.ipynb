{
 "cells": [
  {
   "cell_type": "code",
   "execution_count": 280,
   "metadata": {
    "collapsed": false
   },
   "outputs": [],
   "source": [
    "import pandas as pd\n",
    "import matplotlib.pyplot as plt\n",
    "%matplotlib inline\n",
    "import numpy as np\n",
    "from sklearn.tree import DecisionTreeClassifier\n"
   ]
  },
  {
   "cell_type": "code",
   "execution_count": 281,
   "metadata": {
    "collapsed": true
   },
   "outputs": [],
   "source": [
    "crime = pd.read_csv('/Users/Allison/desktop/sfdat22/notebooks/train.csv')"
   ]
  },
  {
   "cell_type": "code",
   "execution_count": 282,
   "metadata": {
    "collapsed": false
   },
   "outputs": [
    {
     "data": {
      "text/html": [
       "<div>\n",
       "<table border=\"1\" class=\"dataframe\">\n",
       "  <thead>\n",
       "    <tr style=\"text-align: right;\">\n",
       "      <th></th>\n",
       "      <th>Dates</th>\n",
       "      <th>Category</th>\n",
       "      <th>Descript</th>\n",
       "      <th>DayOfWeek</th>\n",
       "      <th>PdDistrict</th>\n",
       "      <th>Resolution</th>\n",
       "      <th>Address</th>\n",
       "      <th>X</th>\n",
       "      <th>Y</th>\n",
       "    </tr>\n",
       "  </thead>\n",
       "  <tbody>\n",
       "    <tr>\n",
       "      <th>0</th>\n",
       "      <td>2015-05-13 23:53:00</td>\n",
       "      <td>WARRANTS</td>\n",
       "      <td>WARRANT ARREST</td>\n",
       "      <td>Wednesday</td>\n",
       "      <td>NORTHERN</td>\n",
       "      <td>ARREST, BOOKED</td>\n",
       "      <td>OAK ST / LAGUNA ST</td>\n",
       "      <td>-122.425892</td>\n",
       "      <td>37.774599</td>\n",
       "    </tr>\n",
       "    <tr>\n",
       "      <th>1</th>\n",
       "      <td>2015-05-13 23:53:00</td>\n",
       "      <td>OTHER OFFENSES</td>\n",
       "      <td>TRAFFIC VIOLATION ARREST</td>\n",
       "      <td>Wednesday</td>\n",
       "      <td>NORTHERN</td>\n",
       "      <td>ARREST, BOOKED</td>\n",
       "      <td>OAK ST / LAGUNA ST</td>\n",
       "      <td>-122.425892</td>\n",
       "      <td>37.774599</td>\n",
       "    </tr>\n",
       "  </tbody>\n",
       "</table>\n",
       "</div>"
      ],
      "text/plain": [
       "                 Dates        Category                  Descript  DayOfWeek  \\\n",
       "0  2015-05-13 23:53:00        WARRANTS            WARRANT ARREST  Wednesday   \n",
       "1  2015-05-13 23:53:00  OTHER OFFENSES  TRAFFIC VIOLATION ARREST  Wednesday   \n",
       "\n",
       "  PdDistrict      Resolution             Address           X          Y  \n",
       "0   NORTHERN  ARREST, BOOKED  OAK ST / LAGUNA ST -122.425892  37.774599  \n",
       "1   NORTHERN  ARREST, BOOKED  OAK ST / LAGUNA ST -122.425892  37.774599  "
      ]
     },
     "execution_count": 282,
     "metadata": {},
     "output_type": "execute_result"
    }
   ],
   "source": [
    "crime.head(2)"
   ]
  },
  {
   "cell_type": "markdown",
   "metadata": {},
   "source": [
    "To prepare the data, I'll index by the date and parse the date into more applicable features like day of week, hour of day, etc. I'll also add in some columns to make a location out of lat and long coordinates to add in some columns to calculate the distance from other key locations. Based on secondary research, the SFPD asserts that most drugs are brought into the city via Bart, so I want to see if there is a correlation between the distance from Bart stations and the category (or quantity) of crime committed. I am also curious if more crime is enforced near the police station for the district, so I'll add a column to calculate the distance from the police station."
   ]
  },
  {
   "cell_type": "code",
   "execution_count": 283,
   "metadata": {
    "collapsed": false
   },
   "outputs": [],
   "source": [
    "#convert the date to a datetime\n",
    "crime[\"Dates\"] = pd.to_datetime(crime[\"Dates\"])\n",
    "crime.set_index(\"Dates\", inplace=True)"
   ]
  },
  {
   "cell_type": "code",
   "execution_count": 284,
   "metadata": {
    "collapsed": false
   },
   "outputs": [
    {
     "data": {
      "text/html": [
       "<div>\n",
       "<table border=\"1\" class=\"dataframe\">\n",
       "  <thead>\n",
       "    <tr style=\"text-align: right;\">\n",
       "      <th></th>\n",
       "      <th>Category</th>\n",
       "      <th>Descript</th>\n",
       "      <th>DayOfWeek</th>\n",
       "      <th>PdDistrict</th>\n",
       "      <th>Resolution</th>\n",
       "      <th>Address</th>\n",
       "      <th>X</th>\n",
       "      <th>Y</th>\n",
       "      <th>Year</th>\n",
       "      <th>Month</th>\n",
       "      <th>Day</th>\n",
       "      <th>Hour</th>\n",
       "    </tr>\n",
       "    <tr>\n",
       "      <th>Dates</th>\n",
       "      <th></th>\n",
       "      <th></th>\n",
       "      <th></th>\n",
       "      <th></th>\n",
       "      <th></th>\n",
       "      <th></th>\n",
       "      <th></th>\n",
       "      <th></th>\n",
       "      <th></th>\n",
       "      <th></th>\n",
       "      <th></th>\n",
       "      <th></th>\n",
       "    </tr>\n",
       "  </thead>\n",
       "  <tbody>\n",
       "    <tr>\n",
       "      <th>2015-05-13 23:53:00</th>\n",
       "      <td>WARRANTS</td>\n",
       "      <td>WARRANT ARREST</td>\n",
       "      <td>Wednesday</td>\n",
       "      <td>NORTHERN</td>\n",
       "      <td>ARREST, BOOKED</td>\n",
       "      <td>OAK ST / LAGUNA ST</td>\n",
       "      <td>-122.425892</td>\n",
       "      <td>37.774599</td>\n",
       "      <td>2015</td>\n",
       "      <td>5</td>\n",
       "      <td>2</td>\n",
       "      <td>23</td>\n",
       "    </tr>\n",
       "    <tr>\n",
       "      <th>2015-05-13 23:53:00</th>\n",
       "      <td>OTHER OFFENSES</td>\n",
       "      <td>TRAFFIC VIOLATION ARREST</td>\n",
       "      <td>Wednesday</td>\n",
       "      <td>NORTHERN</td>\n",
       "      <td>ARREST, BOOKED</td>\n",
       "      <td>OAK ST / LAGUNA ST</td>\n",
       "      <td>-122.425892</td>\n",
       "      <td>37.774599</td>\n",
       "      <td>2015</td>\n",
       "      <td>5</td>\n",
       "      <td>2</td>\n",
       "      <td>23</td>\n",
       "    </tr>\n",
       "    <tr>\n",
       "      <th>2015-05-13 23:33:00</th>\n",
       "      <td>OTHER OFFENSES</td>\n",
       "      <td>TRAFFIC VIOLATION ARREST</td>\n",
       "      <td>Wednesday</td>\n",
       "      <td>NORTHERN</td>\n",
       "      <td>ARREST, BOOKED</td>\n",
       "      <td>VANNESS AV / GREENWICH ST</td>\n",
       "      <td>-122.424363</td>\n",
       "      <td>37.800414</td>\n",
       "      <td>2015</td>\n",
       "      <td>5</td>\n",
       "      <td>2</td>\n",
       "      <td>23</td>\n",
       "    </tr>\n",
       "    <tr>\n",
       "      <th>2015-05-13 23:30:00</th>\n",
       "      <td>LARCENY/THEFT</td>\n",
       "      <td>GRAND THEFT FROM LOCKED AUTO</td>\n",
       "      <td>Wednesday</td>\n",
       "      <td>NORTHERN</td>\n",
       "      <td>NONE</td>\n",
       "      <td>1500 Block of LOMBARD ST</td>\n",
       "      <td>-122.426995</td>\n",
       "      <td>37.800873</td>\n",
       "      <td>2015</td>\n",
       "      <td>5</td>\n",
       "      <td>2</td>\n",
       "      <td>23</td>\n",
       "    </tr>\n",
       "    <tr>\n",
       "      <th>2015-05-13 23:30:00</th>\n",
       "      <td>LARCENY/THEFT</td>\n",
       "      <td>GRAND THEFT FROM LOCKED AUTO</td>\n",
       "      <td>Wednesday</td>\n",
       "      <td>PARK</td>\n",
       "      <td>NONE</td>\n",
       "      <td>100 Block of BRODERICK ST</td>\n",
       "      <td>-122.438738</td>\n",
       "      <td>37.771541</td>\n",
       "      <td>2015</td>\n",
       "      <td>5</td>\n",
       "      <td>2</td>\n",
       "      <td>23</td>\n",
       "    </tr>\n",
       "  </tbody>\n",
       "</table>\n",
       "</div>"
      ],
      "text/plain": [
       "                           Category                      Descript  DayOfWeek  \\\n",
       "Dates                                                                          \n",
       "2015-05-13 23:53:00        WARRANTS                WARRANT ARREST  Wednesday   \n",
       "2015-05-13 23:53:00  OTHER OFFENSES      TRAFFIC VIOLATION ARREST  Wednesday   \n",
       "2015-05-13 23:33:00  OTHER OFFENSES      TRAFFIC VIOLATION ARREST  Wednesday   \n",
       "2015-05-13 23:30:00   LARCENY/THEFT  GRAND THEFT FROM LOCKED AUTO  Wednesday   \n",
       "2015-05-13 23:30:00   LARCENY/THEFT  GRAND THEFT FROM LOCKED AUTO  Wednesday   \n",
       "\n",
       "                    PdDistrict      Resolution                    Address  \\\n",
       "Dates                                                                       \n",
       "2015-05-13 23:53:00   NORTHERN  ARREST, BOOKED         OAK ST / LAGUNA ST   \n",
       "2015-05-13 23:53:00   NORTHERN  ARREST, BOOKED         OAK ST / LAGUNA ST   \n",
       "2015-05-13 23:33:00   NORTHERN  ARREST, BOOKED  VANNESS AV / GREENWICH ST   \n",
       "2015-05-13 23:30:00   NORTHERN            NONE   1500 Block of LOMBARD ST   \n",
       "2015-05-13 23:30:00       PARK            NONE  100 Block of BRODERICK ST   \n",
       "\n",
       "                              X          Y  Year  Month  Day  Hour  \n",
       "Dates                                                               \n",
       "2015-05-13 23:53:00 -122.425892  37.774599  2015      5    2    23  \n",
       "2015-05-13 23:53:00 -122.425892  37.774599  2015      5    2    23  \n",
       "2015-05-13 23:33:00 -122.424363  37.800414  2015      5    2    23  \n",
       "2015-05-13 23:30:00 -122.426995  37.800873  2015      5    2    23  \n",
       "2015-05-13 23:30:00 -122.438738  37.771541  2015      5    2    23  "
      ]
     },
     "execution_count": 284,
     "metadata": {},
     "output_type": "execute_result"
    }
   ],
   "source": [
    "#Index the date features\n",
    "crime['Year'] = crime.index.year\n",
    "crime['Month'] = crime.index.month\n",
    "crime['Day'] = crime.index.dayofweek\n",
    "crime['Hour'] = crime.index.hour\n",
    "crime.head()"
   ]
  },
  {
   "cell_type": "code",
   "execution_count": 285,
   "metadata": {
    "collapsed": false
   },
   "outputs": [
    {
     "data": {
      "text/html": [
       "<div>\n",
       "<table border=\"1\" class=\"dataframe\">\n",
       "  <thead>\n",
       "    <tr style=\"text-align: right;\">\n",
       "      <th></th>\n",
       "      <th>Category</th>\n",
       "      <th>Descript</th>\n",
       "      <th>DayOfWeek</th>\n",
       "      <th>PdDistrict</th>\n",
       "      <th>Resolution</th>\n",
       "      <th>Address</th>\n",
       "      <th>X</th>\n",
       "      <th>Y</th>\n",
       "      <th>Year</th>\n",
       "      <th>Month</th>\n",
       "      <th>Day</th>\n",
       "      <th>Hour</th>\n",
       "      <th>morning</th>\n",
       "    </tr>\n",
       "    <tr>\n",
       "      <th>Dates</th>\n",
       "      <th></th>\n",
       "      <th></th>\n",
       "      <th></th>\n",
       "      <th></th>\n",
       "      <th></th>\n",
       "      <th></th>\n",
       "      <th></th>\n",
       "      <th></th>\n",
       "      <th></th>\n",
       "      <th></th>\n",
       "      <th></th>\n",
       "      <th></th>\n",
       "      <th></th>\n",
       "    </tr>\n",
       "  </thead>\n",
       "  <tbody>\n",
       "    <tr>\n",
       "      <th>2015-05-13 23:53:00</th>\n",
       "      <td>WARRANTS</td>\n",
       "      <td>WARRANT ARREST</td>\n",
       "      <td>Wednesday</td>\n",
       "      <td>NORTHERN</td>\n",
       "      <td>ARREST, BOOKED</td>\n",
       "      <td>OAK ST / LAGUNA ST</td>\n",
       "      <td>-122.425892</td>\n",
       "      <td>37.774599</td>\n",
       "      <td>2015</td>\n",
       "      <td>5</td>\n",
       "      <td>2</td>\n",
       "      <td>23</td>\n",
       "      <td>1</td>\n",
       "    </tr>\n",
       "    <tr>\n",
       "      <th>2015-05-13 23:53:00</th>\n",
       "      <td>OTHER OFFENSES</td>\n",
       "      <td>TRAFFIC VIOLATION ARREST</td>\n",
       "      <td>Wednesday</td>\n",
       "      <td>NORTHERN</td>\n",
       "      <td>ARREST, BOOKED</td>\n",
       "      <td>OAK ST / LAGUNA ST</td>\n",
       "      <td>-122.425892</td>\n",
       "      <td>37.774599</td>\n",
       "      <td>2015</td>\n",
       "      <td>5</td>\n",
       "      <td>2</td>\n",
       "      <td>23</td>\n",
       "      <td>1</td>\n",
       "    </tr>\n",
       "  </tbody>\n",
       "</table>\n",
       "</div>"
      ],
      "text/plain": [
       "                           Category                  Descript  DayOfWeek  \\\n",
       "Dates                                                                      \n",
       "2015-05-13 23:53:00        WARRANTS            WARRANT ARREST  Wednesday   \n",
       "2015-05-13 23:53:00  OTHER OFFENSES  TRAFFIC VIOLATION ARREST  Wednesday   \n",
       "\n",
       "                    PdDistrict      Resolution             Address  \\\n",
       "Dates                                                                \n",
       "2015-05-13 23:53:00   NORTHERN  ARREST, BOOKED  OAK ST / LAGUNA ST   \n",
       "2015-05-13 23:53:00   NORTHERN  ARREST, BOOKED  OAK ST / LAGUNA ST   \n",
       "\n",
       "                              X          Y  Year  Month  Day  Hour  morning  \n",
       "Dates                                                                        \n",
       "2015-05-13 23:53:00 -122.425892  37.774599  2015      5    2    23        1  \n",
       "2015-05-13 23:53:00 -122.425892  37.774599  2015      5    2    23        1  "
      ]
     },
     "execution_count": 285,
     "metadata": {},
     "output_type": "execute_result"
    }
   ],
   "source": [
    "# create a new column based on the hour where 1 is pm and 0 is am\n",
    "crime['morning'] = crime['Hour'].apply(lambda x: 1 if x > 11 else 0)\n",
    "crime.head(2)"
   ]
  },
  {
   "cell_type": "code",
   "execution_count": 244,
   "metadata": {
    "collapsed": false
   },
   "outputs": [
    {
     "data": {
      "text/html": [
       "<div>\n",
       "<table border=\"1\" class=\"dataframe\">\n",
       "  <thead>\n",
       "    <tr style=\"text-align: right;\">\n",
       "      <th></th>\n",
       "      <th>Category</th>\n",
       "      <th>Descript</th>\n",
       "      <th>DayOfWeek</th>\n",
       "      <th>PdDistrict</th>\n",
       "      <th>Resolution</th>\n",
       "      <th>Address</th>\n",
       "      <th>X</th>\n",
       "      <th>Y</th>\n",
       "      <th>Year</th>\n",
       "      <th>Month</th>\n",
       "      <th>Day</th>\n",
       "      <th>Hour</th>\n",
       "      <th>morning</th>\n",
       "      <th>Weekend</th>\n",
       "    </tr>\n",
       "    <tr>\n",
       "      <th>Dates</th>\n",
       "      <th></th>\n",
       "      <th></th>\n",
       "      <th></th>\n",
       "      <th></th>\n",
       "      <th></th>\n",
       "      <th></th>\n",
       "      <th></th>\n",
       "      <th></th>\n",
       "      <th></th>\n",
       "      <th></th>\n",
       "      <th></th>\n",
       "      <th></th>\n",
       "      <th></th>\n",
       "      <th></th>\n",
       "    </tr>\n",
       "  </thead>\n",
       "  <tbody>\n",
       "    <tr>\n",
       "      <th>2015-05-13 23:53:00</th>\n",
       "      <td>WARRANTS</td>\n",
       "      <td>WARRANT ARREST</td>\n",
       "      <td>Wednesday</td>\n",
       "      <td>NORTHERN</td>\n",
       "      <td>ARREST, BOOKED</td>\n",
       "      <td>OAK ST / LAGUNA ST</td>\n",
       "      <td>-122.425892</td>\n",
       "      <td>37.774599</td>\n",
       "      <td>2015</td>\n",
       "      <td>5</td>\n",
       "      <td>2</td>\n",
       "      <td>23</td>\n",
       "      <td>1</td>\n",
       "      <td>0</td>\n",
       "    </tr>\n",
       "    <tr>\n",
       "      <th>2015-05-13 23:53:00</th>\n",
       "      <td>OTHER OFFENSES</td>\n",
       "      <td>TRAFFIC VIOLATION ARREST</td>\n",
       "      <td>Wednesday</td>\n",
       "      <td>NORTHERN</td>\n",
       "      <td>ARREST, BOOKED</td>\n",
       "      <td>OAK ST / LAGUNA ST</td>\n",
       "      <td>-122.425892</td>\n",
       "      <td>37.774599</td>\n",
       "      <td>2015</td>\n",
       "      <td>5</td>\n",
       "      <td>2</td>\n",
       "      <td>23</td>\n",
       "      <td>1</td>\n",
       "      <td>0</td>\n",
       "    </tr>\n",
       "    <tr>\n",
       "      <th>2015-05-13 23:33:00</th>\n",
       "      <td>OTHER OFFENSES</td>\n",
       "      <td>TRAFFIC VIOLATION ARREST</td>\n",
       "      <td>Wednesday</td>\n",
       "      <td>NORTHERN</td>\n",
       "      <td>ARREST, BOOKED</td>\n",
       "      <td>VANNESS AV / GREENWICH ST</td>\n",
       "      <td>-122.424363</td>\n",
       "      <td>37.800414</td>\n",
       "      <td>2015</td>\n",
       "      <td>5</td>\n",
       "      <td>2</td>\n",
       "      <td>23</td>\n",
       "      <td>1</td>\n",
       "      <td>0</td>\n",
       "    </tr>\n",
       "    <tr>\n",
       "      <th>2015-05-13 23:30:00</th>\n",
       "      <td>LARCENY/THEFT</td>\n",
       "      <td>GRAND THEFT FROM LOCKED AUTO</td>\n",
       "      <td>Wednesday</td>\n",
       "      <td>NORTHERN</td>\n",
       "      <td>NONE</td>\n",
       "      <td>1500 Block of LOMBARD ST</td>\n",
       "      <td>-122.426995</td>\n",
       "      <td>37.800873</td>\n",
       "      <td>2015</td>\n",
       "      <td>5</td>\n",
       "      <td>2</td>\n",
       "      <td>23</td>\n",
       "      <td>1</td>\n",
       "      <td>0</td>\n",
       "    </tr>\n",
       "    <tr>\n",
       "      <th>2015-05-13 23:30:00</th>\n",
       "      <td>LARCENY/THEFT</td>\n",
       "      <td>GRAND THEFT FROM LOCKED AUTO</td>\n",
       "      <td>Wednesday</td>\n",
       "      <td>PARK</td>\n",
       "      <td>NONE</td>\n",
       "      <td>100 Block of BRODERICK ST</td>\n",
       "      <td>-122.438738</td>\n",
       "      <td>37.771541</td>\n",
       "      <td>2015</td>\n",
       "      <td>5</td>\n",
       "      <td>2</td>\n",
       "      <td>23</td>\n",
       "      <td>1</td>\n",
       "      <td>0</td>\n",
       "    </tr>\n",
       "  </tbody>\n",
       "</table>\n",
       "</div>"
      ],
      "text/plain": [
       "                           Category                      Descript  DayOfWeek  \\\n",
       "Dates                                                                          \n",
       "2015-05-13 23:53:00        WARRANTS                WARRANT ARREST  Wednesday   \n",
       "2015-05-13 23:53:00  OTHER OFFENSES      TRAFFIC VIOLATION ARREST  Wednesday   \n",
       "2015-05-13 23:33:00  OTHER OFFENSES      TRAFFIC VIOLATION ARREST  Wednesday   \n",
       "2015-05-13 23:30:00   LARCENY/THEFT  GRAND THEFT FROM LOCKED AUTO  Wednesday   \n",
       "2015-05-13 23:30:00   LARCENY/THEFT  GRAND THEFT FROM LOCKED AUTO  Wednesday   \n",
       "\n",
       "                    PdDistrict      Resolution                    Address  \\\n",
       "Dates                                                                       \n",
       "2015-05-13 23:53:00   NORTHERN  ARREST, BOOKED         OAK ST / LAGUNA ST   \n",
       "2015-05-13 23:53:00   NORTHERN  ARREST, BOOKED         OAK ST / LAGUNA ST   \n",
       "2015-05-13 23:33:00   NORTHERN  ARREST, BOOKED  VANNESS AV / GREENWICH ST   \n",
       "2015-05-13 23:30:00   NORTHERN            NONE   1500 Block of LOMBARD ST   \n",
       "2015-05-13 23:30:00       PARK            NONE  100 Block of BRODERICK ST   \n",
       "\n",
       "                              X          Y  Year  Month  Day  Hour  morning  \\\n",
       "Dates                                                                         \n",
       "2015-05-13 23:53:00 -122.425892  37.774599  2015      5    2    23        1   \n",
       "2015-05-13 23:53:00 -122.425892  37.774599  2015      5    2    23        1   \n",
       "2015-05-13 23:33:00 -122.424363  37.800414  2015      5    2    23        1   \n",
       "2015-05-13 23:30:00 -122.426995  37.800873  2015      5    2    23        1   \n",
       "2015-05-13 23:30:00 -122.438738  37.771541  2015      5    2    23        1   \n",
       "\n",
       "                     Weekend  \n",
       "Dates                         \n",
       "2015-05-13 23:53:00        0  \n",
       "2015-05-13 23:53:00        0  \n",
       "2015-05-13 23:33:00        0  \n",
       "2015-05-13 23:30:00        0  \n",
       "2015-05-13 23:30:00        0  "
      ]
     },
     "execution_count": 244,
     "metadata": {},
     "output_type": "execute_result"
    }
   ],
   "source": [
    "#Add a column to determine weekend or weekday\n",
    "crime['Weekend'] = crime.DayOfWeek.map({'Monday':0, 'Tuesday':0, 'Wednesday':0, 'Thursday':0, 'Friday':0, 'Saturday':1, 'Sunday':1})\n",
    "crime.head()"
   ]
  },
  {
   "cell_type": "code",
   "execution_count": 286,
   "metadata": {
    "collapsed": false
   },
   "outputs": [
    {
     "data": {
      "text/html": [
       "<div>\n",
       "<table border=\"1\" class=\"dataframe\">\n",
       "  <thead>\n",
       "    <tr style=\"text-align: right;\">\n",
       "      <th></th>\n",
       "      <th>Category</th>\n",
       "      <th>Descript</th>\n",
       "      <th>DayOfWeek</th>\n",
       "      <th>PdDistrict</th>\n",
       "      <th>Resolution</th>\n",
       "      <th>Address</th>\n",
       "      <th>X</th>\n",
       "      <th>Y</th>\n",
       "      <th>Year</th>\n",
       "      <th>Month</th>\n",
       "      <th>Day</th>\n",
       "      <th>Hour</th>\n",
       "      <th>morning</th>\n",
       "      <th>Location</th>\n",
       "    </tr>\n",
       "    <tr>\n",
       "      <th>Dates</th>\n",
       "      <th></th>\n",
       "      <th></th>\n",
       "      <th></th>\n",
       "      <th></th>\n",
       "      <th></th>\n",
       "      <th></th>\n",
       "      <th></th>\n",
       "      <th></th>\n",
       "      <th></th>\n",
       "      <th></th>\n",
       "      <th></th>\n",
       "      <th></th>\n",
       "      <th></th>\n",
       "      <th></th>\n",
       "    </tr>\n",
       "  </thead>\n",
       "  <tbody>\n",
       "    <tr>\n",
       "      <th>2015-05-13 23:53:00</th>\n",
       "      <td>WARRANTS</td>\n",
       "      <td>WARRANT ARREST</td>\n",
       "      <td>Wednesday</td>\n",
       "      <td>NORTHERN</td>\n",
       "      <td>ARREST, BOOKED</td>\n",
       "      <td>OAK ST / LAGUNA ST</td>\n",
       "      <td>-122.425892</td>\n",
       "      <td>37.774599</td>\n",
       "      <td>2015</td>\n",
       "      <td>5</td>\n",
       "      <td>2</td>\n",
       "      <td>23</td>\n",
       "      <td>1</td>\n",
       "      <td>(37.7745985957, -122.425891675)</td>\n",
       "    </tr>\n",
       "    <tr>\n",
       "      <th>2015-05-13 23:53:00</th>\n",
       "      <td>OTHER OFFENSES</td>\n",
       "      <td>TRAFFIC VIOLATION ARREST</td>\n",
       "      <td>Wednesday</td>\n",
       "      <td>NORTHERN</td>\n",
       "      <td>ARREST, BOOKED</td>\n",
       "      <td>OAK ST / LAGUNA ST</td>\n",
       "      <td>-122.425892</td>\n",
       "      <td>37.774599</td>\n",
       "      <td>2015</td>\n",
       "      <td>5</td>\n",
       "      <td>2</td>\n",
       "      <td>23</td>\n",
       "      <td>1</td>\n",
       "      <td>(37.7745985957, -122.425891675)</td>\n",
       "    </tr>\n",
       "  </tbody>\n",
       "</table>\n",
       "</div>"
      ],
      "text/plain": [
       "                           Category                  Descript  DayOfWeek  \\\n",
       "Dates                                                                      \n",
       "2015-05-13 23:53:00        WARRANTS            WARRANT ARREST  Wednesday   \n",
       "2015-05-13 23:53:00  OTHER OFFENSES  TRAFFIC VIOLATION ARREST  Wednesday   \n",
       "\n",
       "                    PdDistrict      Resolution             Address  \\\n",
       "Dates                                                                \n",
       "2015-05-13 23:53:00   NORTHERN  ARREST, BOOKED  OAK ST / LAGUNA ST   \n",
       "2015-05-13 23:53:00   NORTHERN  ARREST, BOOKED  OAK ST / LAGUNA ST   \n",
       "\n",
       "                              X          Y  Year  Month  Day  Hour  morning  \\\n",
       "Dates                                                                         \n",
       "2015-05-13 23:53:00 -122.425892  37.774599  2015      5    2    23        1   \n",
       "2015-05-13 23:53:00 -122.425892  37.774599  2015      5    2    23        1   \n",
       "\n",
       "                                            Location  \n",
       "Dates                                                 \n",
       "2015-05-13 23:53:00  (37.7745985957, -122.425891675)  \n",
       "2015-05-13 23:53:00  (37.7745985957, -122.425891675)  "
      ]
     },
     "execution_count": 286,
     "metadata": {},
     "output_type": "execute_result"
    }
   ],
   "source": [
    "#Add a location with lat and long coordinates, (X is longitude and Y is latitude)\n",
    "crime.head()\n",
    "crime['Location'] = zip(crime['Y'], crime['X'])\n",
    "crime.head(2)"
   ]
  },
  {
   "cell_type": "code",
   "execution_count": 287,
   "metadata": {
    "collapsed": false
   },
   "outputs": [
    {
     "data": {
      "text/plain": [
       "0.4373589691660568"
      ]
     },
     "execution_count": 287,
     "metadata": {},
     "output_type": "execute_result"
    }
   ],
   "source": [
    "#add distances from nearby bart stations and test to see if vincenty distance function seems accurate. (Within 1 mile of the google maps distance)\n",
    "from geopy.distance import vincenty\n",
    "# balboa_bart = (37.7216, -122.4475)\n",
    "civic_bart = (37.7799, -122.4135)\n",
    "# glen_park = (37.7331, -122.4338)\n",
    "# mission_24th = (37.7525, -122.4181)\n",
    "mission_16th = (37.7648, -122.42)\n",
    "powell_bart = (37.7845, -122.408)\n",
    "# montgomery_bart = (37.7894, -122.4011)\n",
    "# embarcadero_bart = (37.7929, -122.3971)\n",
    "vincenty(civic_bart, powell_bart).miles"
   ]
  },
  {
   "cell_type": "code",
   "execution_count": 288,
   "metadata": {
    "collapsed": false
   },
   "outputs": [
    {
     "data": {
      "text/plain": [
       "0.25898002110602475"
      ]
     },
     "execution_count": 288,
     "metadata": {},
     "output_type": "execute_result"
    }
   ],
   "source": [
    "#add distance from the Tenderloin police station\n",
    "police_station = (37.7836111, -122.4127778)\n",
    "vincenty(civic_bart, police_station).miles"
   ]
  },
  {
   "cell_type": "code",
   "execution_count": 289,
   "metadata": {
    "collapsed": false
   },
   "outputs": [
    {
     "data": {
      "text/html": [
       "<div>\n",
       "<table border=\"1\" class=\"dataframe\">\n",
       "  <thead>\n",
       "    <tr style=\"text-align: right;\">\n",
       "      <th></th>\n",
       "      <th>Category</th>\n",
       "      <th>Descript</th>\n",
       "      <th>DayOfWeek</th>\n",
       "      <th>PdDistrict</th>\n",
       "      <th>Resolution</th>\n",
       "      <th>Address</th>\n",
       "      <th>X</th>\n",
       "      <th>Y</th>\n",
       "      <th>Year</th>\n",
       "      <th>Month</th>\n",
       "      <th>Day</th>\n",
       "      <th>Hour</th>\n",
       "      <th>morning</th>\n",
       "      <th>Location</th>\n",
       "      <th>Civic_Bart</th>\n",
       "      <th>mission_16th</th>\n",
       "      <th>powell_bart</th>\n",
       "      <th>police_station</th>\n",
       "    </tr>\n",
       "    <tr>\n",
       "      <th>Dates</th>\n",
       "      <th></th>\n",
       "      <th></th>\n",
       "      <th></th>\n",
       "      <th></th>\n",
       "      <th></th>\n",
       "      <th></th>\n",
       "      <th></th>\n",
       "      <th></th>\n",
       "      <th></th>\n",
       "      <th></th>\n",
       "      <th></th>\n",
       "      <th></th>\n",
       "      <th></th>\n",
       "      <th></th>\n",
       "      <th></th>\n",
       "      <th></th>\n",
       "      <th></th>\n",
       "      <th></th>\n",
       "    </tr>\n",
       "  </thead>\n",
       "  <tbody>\n",
       "    <tr>\n",
       "      <th>2015-05-13 23:53:00</th>\n",
       "      <td>WARRANTS</td>\n",
       "      <td>WARRANT ARREST</td>\n",
       "      <td>Wednesday</td>\n",
       "      <td>NORTHERN</td>\n",
       "      <td>ARREST, BOOKED</td>\n",
       "      <td>OAK ST / LAGUNA ST</td>\n",
       "      <td>-122.425892</td>\n",
       "      <td>37.774599</td>\n",
       "      <td>2015</td>\n",
       "      <td>5</td>\n",
       "      <td>2</td>\n",
       "      <td>23</td>\n",
       "      <td>1</td>\n",
       "      <td>(37.7745985957, -122.425891675)</td>\n",
       "      <td>0.770597</td>\n",
       "      <td>0.748813</td>\n",
       "      <td>1.193946</td>\n",
       "      <td>0.949557</td>\n",
       "    </tr>\n",
       "    <tr>\n",
       "      <th>2015-05-13 23:53:00</th>\n",
       "      <td>OTHER OFFENSES</td>\n",
       "      <td>TRAFFIC VIOLATION ARREST</td>\n",
       "      <td>Wednesday</td>\n",
       "      <td>NORTHERN</td>\n",
       "      <td>ARREST, BOOKED</td>\n",
       "      <td>OAK ST / LAGUNA ST</td>\n",
       "      <td>-122.425892</td>\n",
       "      <td>37.774599</td>\n",
       "      <td>2015</td>\n",
       "      <td>5</td>\n",
       "      <td>2</td>\n",
       "      <td>23</td>\n",
       "      <td>1</td>\n",
       "      <td>(37.7745985957, -122.425891675)</td>\n",
       "      <td>0.770597</td>\n",
       "      <td>0.748813</td>\n",
       "      <td>1.193946</td>\n",
       "      <td>0.949557</td>\n",
       "    </tr>\n",
       "  </tbody>\n",
       "</table>\n",
       "</div>"
      ],
      "text/plain": [
       "                           Category                  Descript  DayOfWeek  \\\n",
       "Dates                                                                      \n",
       "2015-05-13 23:53:00        WARRANTS            WARRANT ARREST  Wednesday   \n",
       "2015-05-13 23:53:00  OTHER OFFENSES  TRAFFIC VIOLATION ARREST  Wednesday   \n",
       "\n",
       "                    PdDistrict      Resolution             Address  \\\n",
       "Dates                                                                \n",
       "2015-05-13 23:53:00   NORTHERN  ARREST, BOOKED  OAK ST / LAGUNA ST   \n",
       "2015-05-13 23:53:00   NORTHERN  ARREST, BOOKED  OAK ST / LAGUNA ST   \n",
       "\n",
       "                              X          Y  Year  Month  Day  Hour  morning  \\\n",
       "Dates                                                                         \n",
       "2015-05-13 23:53:00 -122.425892  37.774599  2015      5    2    23        1   \n",
       "2015-05-13 23:53:00 -122.425892  37.774599  2015      5    2    23        1   \n",
       "\n",
       "                                            Location  Civic_Bart  \\\n",
       "Dates                                                              \n",
       "2015-05-13 23:53:00  (37.7745985957, -122.425891675)    0.770597   \n",
       "2015-05-13 23:53:00  (37.7745985957, -122.425891675)    0.770597   \n",
       "\n",
       "                     mission_16th  powell_bart  police_station  \n",
       "Dates                                                           \n",
       "2015-05-13 23:53:00      0.748813     1.193946        0.949557  \n",
       "2015-05-13 23:53:00      0.748813     1.193946        0.949557  "
      ]
     },
     "execution_count": 289,
     "metadata": {},
     "output_type": "execute_result"
    }
   ],
   "source": [
    "#add columns for distance from bart and police station\n",
    "crime['Civic_Bart'] = crime['Location'].apply(lambda x: vincenty(x, civic_bart).miles)\n",
    "crime['mission_16th'] = crime['Location'].apply(lambda x: vincenty(x, mission_16th).miles)\n",
    "crime['powell_bart'] = crime['Location'].apply(lambda x: vincenty(x, powell_bart).miles)\n",
    "crime['police_station'] = crime['Location'].apply(lambda x: vincenty(x, police_station).miles)\n",
    "crime.head(2)"
   ]
  },
  {
   "cell_type": "code",
   "execution_count": 290,
   "metadata": {
    "collapsed": false
   },
   "outputs": [
    {
     "data": {
      "text/html": [
       "<div>\n",
       "<table border=\"1\" class=\"dataframe\">\n",
       "  <thead>\n",
       "    <tr style=\"text-align: right;\">\n",
       "      <th></th>\n",
       "      <th>Category</th>\n",
       "      <th>Descript</th>\n",
       "      <th>DayOfWeek</th>\n",
       "      <th>PdDistrict</th>\n",
       "      <th>Resolution</th>\n",
       "      <th>Address</th>\n",
       "      <th>X</th>\n",
       "      <th>Y</th>\n",
       "      <th>Year</th>\n",
       "      <th>Month</th>\n",
       "      <th>Day</th>\n",
       "      <th>Hour</th>\n",
       "      <th>morning</th>\n",
       "      <th>Location</th>\n",
       "      <th>Civic_Bart</th>\n",
       "      <th>mission_16th</th>\n",
       "      <th>powell_bart</th>\n",
       "      <th>police_station</th>\n",
       "      <th>CCBart_nearest</th>\n",
       "      <th>police_nearest</th>\n",
       "    </tr>\n",
       "    <tr>\n",
       "      <th>Dates</th>\n",
       "      <th></th>\n",
       "      <th></th>\n",
       "      <th></th>\n",
       "      <th></th>\n",
       "      <th></th>\n",
       "      <th></th>\n",
       "      <th></th>\n",
       "      <th></th>\n",
       "      <th></th>\n",
       "      <th></th>\n",
       "      <th></th>\n",
       "      <th></th>\n",
       "      <th></th>\n",
       "      <th></th>\n",
       "      <th></th>\n",
       "      <th></th>\n",
       "      <th></th>\n",
       "      <th></th>\n",
       "      <th></th>\n",
       "      <th></th>\n",
       "    </tr>\n",
       "  </thead>\n",
       "  <tbody>\n",
       "    <tr>\n",
       "      <th>2015-05-13 23:53:00</th>\n",
       "      <td>WARRANTS</td>\n",
       "      <td>WARRANT ARREST</td>\n",
       "      <td>Wednesday</td>\n",
       "      <td>NORTHERN</td>\n",
       "      <td>ARREST, BOOKED</td>\n",
       "      <td>OAK ST / LAGUNA ST</td>\n",
       "      <td>-122.425892</td>\n",
       "      <td>37.774599</td>\n",
       "      <td>2015</td>\n",
       "      <td>5</td>\n",
       "      <td>2</td>\n",
       "      <td>23</td>\n",
       "      <td>1</td>\n",
       "      <td>(37.7745985957, -122.425891675)</td>\n",
       "      <td>0.770597</td>\n",
       "      <td>0.748813</td>\n",
       "      <td>1.193946</td>\n",
       "      <td>0.949557</td>\n",
       "      <td>0</td>\n",
       "      <td>0</td>\n",
       "    </tr>\n",
       "    <tr>\n",
       "      <th>2015-05-13 23:53:00</th>\n",
       "      <td>OTHER OFFENSES</td>\n",
       "      <td>TRAFFIC VIOLATION ARREST</td>\n",
       "      <td>Wednesday</td>\n",
       "      <td>NORTHERN</td>\n",
       "      <td>ARREST, BOOKED</td>\n",
       "      <td>OAK ST / LAGUNA ST</td>\n",
       "      <td>-122.425892</td>\n",
       "      <td>37.774599</td>\n",
       "      <td>2015</td>\n",
       "      <td>5</td>\n",
       "      <td>2</td>\n",
       "      <td>23</td>\n",
       "      <td>1</td>\n",
       "      <td>(37.7745985957, -122.425891675)</td>\n",
       "      <td>0.770597</td>\n",
       "      <td>0.748813</td>\n",
       "      <td>1.193946</td>\n",
       "      <td>0.949557</td>\n",
       "      <td>0</td>\n",
       "      <td>0</td>\n",
       "    </tr>\n",
       "  </tbody>\n",
       "</table>\n",
       "</div>"
      ],
      "text/plain": [
       "                           Category                  Descript  DayOfWeek  \\\n",
       "Dates                                                                      \n",
       "2015-05-13 23:53:00        WARRANTS            WARRANT ARREST  Wednesday   \n",
       "2015-05-13 23:53:00  OTHER OFFENSES  TRAFFIC VIOLATION ARREST  Wednesday   \n",
       "\n",
       "                    PdDistrict      Resolution             Address  \\\n",
       "Dates                                                                \n",
       "2015-05-13 23:53:00   NORTHERN  ARREST, BOOKED  OAK ST / LAGUNA ST   \n",
       "2015-05-13 23:53:00   NORTHERN  ARREST, BOOKED  OAK ST / LAGUNA ST   \n",
       "\n",
       "                              X          Y  Year  Month  Day  Hour  morning  \\\n",
       "Dates                                                                         \n",
       "2015-05-13 23:53:00 -122.425892  37.774599  2015      5    2    23        1   \n",
       "2015-05-13 23:53:00 -122.425892  37.774599  2015      5    2    23        1   \n",
       "\n",
       "                                            Location  Civic_Bart  \\\n",
       "Dates                                                              \n",
       "2015-05-13 23:53:00  (37.7745985957, -122.425891675)    0.770597   \n",
       "2015-05-13 23:53:00  (37.7745985957, -122.425891675)    0.770597   \n",
       "\n",
       "                     mission_16th  powell_bart  police_station  \\\n",
       "Dates                                                            \n",
       "2015-05-13 23:53:00      0.748813     1.193946        0.949557   \n",
       "2015-05-13 23:53:00      0.748813     1.193946        0.949557   \n",
       "\n",
       "                     CCBart_nearest  police_nearest  \n",
       "Dates                                                \n",
       "2015-05-13 23:53:00               0               0  \n",
       "2015-05-13 23:53:00               0               0  "
      ]
     },
     "execution_count": 290,
     "metadata": {},
     "output_type": "execute_result"
    }
   ],
   "source": [
    "#create a column for distance within a block or two of Civic Center Bart\n",
    "crime['CCBart_nearest'] = crime['Civic_Bart'].apply(lambda x: 1 if x < 0.2 else 0)\n",
    "crime['police_nearest'] = crime['police_station'].apply(lambda x: 1 if x < 0.2 else 0)\n",
    "crime.head(2)"
   ]
  },
  {
   "cell_type": "code",
   "execution_count": 291,
   "metadata": {
    "collapsed": false
   },
   "outputs": [
    {
     "data": {
      "text/plain": [
       "Index([u'Category', u'Descript', u'DayOfWeek', u'PdDistrict', u'Resolution',\n",
       "       u'Address', u'X', u'Y', u'Year', u'Month', u'Day', u'Hour', u'morning',\n",
       "       u'Location', u'Civic_Bart', u'mission_16th', u'powell_bart',\n",
       "       u'police_station', u'CCBart_nearest', u'police_nearest'],\n",
       "      dtype='object')"
      ]
     },
     "execution_count": 291,
     "metadata": {},
     "output_type": "execute_result"
    }
   ],
   "source": [
    "crime.columns"
   ]
  },
  {
   "cell_type": "code",
   "execution_count": 296,
   "metadata": {
    "collapsed": false
   },
   "outputs": [
    {
     "data": {
      "text/html": [
       "<div>\n",
       "<table border=\"1\" class=\"dataframe\">\n",
       "  <thead>\n",
       "    <tr style=\"text-align: right;\">\n",
       "      <th></th>\n",
       "      <th>Category</th>\n",
       "      <th>Descript</th>\n",
       "      <th>DayOfWeek</th>\n",
       "      <th>PdDistrict</th>\n",
       "      <th>Resolution</th>\n",
       "      <th>Address</th>\n",
       "      <th>X</th>\n",
       "      <th>Y</th>\n",
       "      <th>Year</th>\n",
       "      <th>Month</th>\n",
       "      <th>Day</th>\n",
       "      <th>Hour</th>\n",
       "      <th>morning</th>\n",
       "      <th>Location</th>\n",
       "      <th>Civic_Bart</th>\n",
       "      <th>mission_16th</th>\n",
       "      <th>powell_bart</th>\n",
       "      <th>police_station</th>\n",
       "      <th>CCBart_nearest</th>\n",
       "      <th>police_nearest</th>\n",
       "    </tr>\n",
       "    <tr>\n",
       "      <th>Dates</th>\n",
       "      <th></th>\n",
       "      <th></th>\n",
       "      <th></th>\n",
       "      <th></th>\n",
       "      <th></th>\n",
       "      <th></th>\n",
       "      <th></th>\n",
       "      <th></th>\n",
       "      <th></th>\n",
       "      <th></th>\n",
       "      <th></th>\n",
       "      <th></th>\n",
       "      <th></th>\n",
       "      <th></th>\n",
       "      <th></th>\n",
       "      <th></th>\n",
       "      <th></th>\n",
       "      <th></th>\n",
       "      <th></th>\n",
       "      <th></th>\n",
       "    </tr>\n",
       "  </thead>\n",
       "  <tbody>\n",
       "    <tr>\n",
       "      <th>2015-05-13 22:30:00</th>\n",
       "      <td>VANDALISM</td>\n",
       "      <td>MALICIOUS MISCHIEF, VANDALISM OF VEHICLES</td>\n",
       "      <td>Wednesday</td>\n",
       "      <td>TENDERLOIN</td>\n",
       "      <td>NONE</td>\n",
       "      <td>TURK ST / JONES ST</td>\n",
       "      <td>-122.412414</td>\n",
       "      <td>37.783004</td>\n",
       "      <td>2015</td>\n",
       "      <td>5</td>\n",
       "      <td>2</td>\n",
       "      <td>22</td>\n",
       "      <td>1</td>\n",
       "      <td>(37.7830037965, -122.412414264)</td>\n",
       "      <td>0.222158</td>\n",
       "      <td>1.322365</td>\n",
       "      <td>0.262733</td>\n",
       "      <td>0.046371</td>\n",
       "      <td>0</td>\n",
       "      <td>1</td>\n",
       "    </tr>\n",
       "    <tr>\n",
       "      <th>2015-05-13 22:00:00</th>\n",
       "      <td>ROBBERY</td>\n",
       "      <td>ROBBERY, ARMED WITH A KNIFE</td>\n",
       "      <td>Wednesday</td>\n",
       "      <td>TENDERLOIN</td>\n",
       "      <td>NONE</td>\n",
       "      <td>EDDY ST / JONES ST</td>\n",
       "      <td>-122.412597</td>\n",
       "      <td>37.783932</td>\n",
       "      <td>2015</td>\n",
       "      <td>5</td>\n",
       "      <td>2</td>\n",
       "      <td>22</td>\n",
       "      <td>1</td>\n",
       "      <td>(37.7839320277, -122.412597377)</td>\n",
       "      <td>0.282434</td>\n",
       "      <td>1.380313</td>\n",
       "      <td>0.254673</td>\n",
       "      <td>0.024237</td>\n",
       "      <td>0</td>\n",
       "      <td>1</td>\n",
       "    </tr>\n",
       "    <tr>\n",
       "      <th>2015-05-13 21:30:00</th>\n",
       "      <td>NON-CRIMINAL</td>\n",
       "      <td>FOUND PROPERTY</td>\n",
       "      <td>Wednesday</td>\n",
       "      <td>TENDERLOIN</td>\n",
       "      <td>NONE</td>\n",
       "      <td>100 Block of JONES ST</td>\n",
       "      <td>-122.412250</td>\n",
       "      <td>37.782556</td>\n",
       "      <td>2015</td>\n",
       "      <td>5</td>\n",
       "      <td>2</td>\n",
       "      <td>21</td>\n",
       "      <td>1</td>\n",
       "      <td>(37.7825563302, -122.412249768)</td>\n",
       "      <td>0.195565</td>\n",
       "      <td>1.296022</td>\n",
       "      <td>0.268478</td>\n",
       "      <td>0.078276</td>\n",
       "      <td>1</td>\n",
       "      <td>1</td>\n",
       "    </tr>\n",
       "    <tr>\n",
       "      <th>2015-05-13 21:11:00</th>\n",
       "      <td>WARRANTS</td>\n",
       "      <td>WARRANT ARREST</td>\n",
       "      <td>Wednesday</td>\n",
       "      <td>TENDERLOIN</td>\n",
       "      <td>NONE</td>\n",
       "      <td>100 Block of JONES ST</td>\n",
       "      <td>-122.412250</td>\n",
       "      <td>37.782556</td>\n",
       "      <td>2015</td>\n",
       "      <td>5</td>\n",
       "      <td>2</td>\n",
       "      <td>21</td>\n",
       "      <td>1</td>\n",
       "      <td>(37.7825563302, -122.412249768)</td>\n",
       "      <td>0.195565</td>\n",
       "      <td>1.296022</td>\n",
       "      <td>0.268478</td>\n",
       "      <td>0.078276</td>\n",
       "      <td>1</td>\n",
       "      <td>1</td>\n",
       "    </tr>\n",
       "    <tr>\n",
       "      <th>2015-05-13 21:11:00</th>\n",
       "      <td>NON-CRIMINAL</td>\n",
       "      <td>STAY AWAY OR COURT ORDER, NON-DV RELATED</td>\n",
       "      <td>Wednesday</td>\n",
       "      <td>TENDERLOIN</td>\n",
       "      <td>NONE</td>\n",
       "      <td>100 Block of JONES ST</td>\n",
       "      <td>-122.412250</td>\n",
       "      <td>37.782556</td>\n",
       "      <td>2015</td>\n",
       "      <td>5</td>\n",
       "      <td>2</td>\n",
       "      <td>21</td>\n",
       "      <td>1</td>\n",
       "      <td>(37.7825563302, -122.412249768)</td>\n",
       "      <td>0.195565</td>\n",
       "      <td>1.296022</td>\n",
       "      <td>0.268478</td>\n",
       "      <td>0.078276</td>\n",
       "      <td>1</td>\n",
       "      <td>1</td>\n",
       "    </tr>\n",
       "  </tbody>\n",
       "</table>\n",
       "</div>"
      ],
      "text/plain": [
       "                         Category                                   Descript  \\\n",
       "Dates                                                                          \n",
       "2015-05-13 22:30:00     VANDALISM  MALICIOUS MISCHIEF, VANDALISM OF VEHICLES   \n",
       "2015-05-13 22:00:00       ROBBERY                ROBBERY, ARMED WITH A KNIFE   \n",
       "2015-05-13 21:30:00  NON-CRIMINAL                             FOUND PROPERTY   \n",
       "2015-05-13 21:11:00      WARRANTS                             WARRANT ARREST   \n",
       "2015-05-13 21:11:00  NON-CRIMINAL   STAY AWAY OR COURT ORDER, NON-DV RELATED   \n",
       "\n",
       "                     DayOfWeek  PdDistrict Resolution                Address  \\\n",
       "Dates                                                                          \n",
       "2015-05-13 22:30:00  Wednesday  TENDERLOIN       NONE     TURK ST / JONES ST   \n",
       "2015-05-13 22:00:00  Wednesday  TENDERLOIN       NONE     EDDY ST / JONES ST   \n",
       "2015-05-13 21:30:00  Wednesday  TENDERLOIN       NONE  100 Block of JONES ST   \n",
       "2015-05-13 21:11:00  Wednesday  TENDERLOIN       NONE  100 Block of JONES ST   \n",
       "2015-05-13 21:11:00  Wednesday  TENDERLOIN       NONE  100 Block of JONES ST   \n",
       "\n",
       "                              X          Y  Year  Month  Day  Hour  morning  \\\n",
       "Dates                                                                         \n",
       "2015-05-13 22:30:00 -122.412414  37.783004  2015      5    2    22        1   \n",
       "2015-05-13 22:00:00 -122.412597  37.783932  2015      5    2    22        1   \n",
       "2015-05-13 21:30:00 -122.412250  37.782556  2015      5    2    21        1   \n",
       "2015-05-13 21:11:00 -122.412250  37.782556  2015      5    2    21        1   \n",
       "2015-05-13 21:11:00 -122.412250  37.782556  2015      5    2    21        1   \n",
       "\n",
       "                                            Location  Civic_Bart  \\\n",
       "Dates                                                              \n",
       "2015-05-13 22:30:00  (37.7830037965, -122.412414264)    0.222158   \n",
       "2015-05-13 22:00:00  (37.7839320277, -122.412597377)    0.282434   \n",
       "2015-05-13 21:30:00  (37.7825563302, -122.412249768)    0.195565   \n",
       "2015-05-13 21:11:00  (37.7825563302, -122.412249768)    0.195565   \n",
       "2015-05-13 21:11:00  (37.7825563302, -122.412249768)    0.195565   \n",
       "\n",
       "                     mission_16th  powell_bart  police_station  \\\n",
       "Dates                                                            \n",
       "2015-05-13 22:30:00      1.322365     0.262733        0.046371   \n",
       "2015-05-13 22:00:00      1.380313     0.254673        0.024237   \n",
       "2015-05-13 21:30:00      1.296022     0.268478        0.078276   \n",
       "2015-05-13 21:11:00      1.296022     0.268478        0.078276   \n",
       "2015-05-13 21:11:00      1.296022     0.268478        0.078276   \n",
       "\n",
       "                     CCBart_nearest  police_nearest  \n",
       "Dates                                                \n",
       "2015-05-13 22:30:00               0               1  \n",
       "2015-05-13 22:00:00               0               1  \n",
       "2015-05-13 21:30:00               1               1  \n",
       "2015-05-13 21:11:00               1               1  \n",
       "2015-05-13 21:11:00               1               1  "
      ]
     },
     "execution_count": 296,
     "metadata": {},
     "output_type": "execute_result"
    }
   ],
   "source": [
    "#I want to examine crime in the Tenderloin specifically, so I created a new dataframe filtered to crime in the TL.\n",
    "TL_crime = crime[crime.PdDistrict == 'TENDERLOIN'].copy()\n",
    "TL_crime.head()"
   ]
  },
  {
   "cell_type": "code",
   "execution_count": 162,
   "metadata": {
    "collapsed": false
   },
   "outputs": [
    {
     "data": {
      "text/plain": [
       "Category  Category\n",
       "8         8           11177\n",
       "4         4            9237\n",
       "2         2            6941\n",
       "7         7            6823\n",
       "3         3            5366\n",
       "6         6            2386\n",
       "1         1            1977\n",
       "0         0            1502\n",
       "13        13           1236\n",
       "17        17            970\n",
       "16        16            938\n",
       "5         5             835\n",
       "25        25            795\n",
       "20        20            787\n",
       "11        11            607\n",
       "14        14            528\n",
       "23        23            480\n",
       "10        10            428\n",
       "21        21            307\n",
       "12        12            298\n",
       "9         9             209\n",
       "29        29            184\n",
       "15        15            177\n",
       "19        19            139\n",
       "31        31            125\n",
       "24        24             89\n",
       "18        18             58\n",
       "27        27             55\n",
       "28        28             35\n",
       "32        32             26\n",
       "34        34             17\n",
       "26        26             13\n",
       "22        22              9\n",
       "35        35              8\n",
       "33        33              7\n",
       "30        30              3\n",
       "dtype: int64"
      ]
     },
     "execution_count": 162,
     "metadata": {},
     "output_type": "execute_result"
    }
   ],
   "source": [
    "#Exploratory Analysis: Just looking at crimes by category\n",
    "TL_crime.groupby('Category').Category.value_counts().sort_values(ascending=False)"
   ]
  },
  {
   "cell_type": "markdown",
   "metadata": {},
   "source": [
    "Data Visualiztions to show how crime category is distributed across day, hour, and location. "
   ]
  },
  {
   "cell_type": "code",
   "execution_count": 57,
   "metadata": {
    "collapsed": false
   },
   "outputs": [
    {
     "data": {
      "text/plain": [
       "<matplotlib.text.Text at 0x11f086bd0>"
      ]
     },
     "execution_count": 57,
     "metadata": {},
     "output_type": "execute_result"
    },
    {
     "data": {
      "image/png": "[encoded data removed]",
      "text/plain": [
       "<matplotlib.figure.Figure at 0x11a9f3650>"
      ]
     },
     "metadata": {},
     "output_type": "display_data"
    }
   ],
   "source": [
    "# Visualizing Crime by day of the week\n",
    "TL_crime.DayOfWeek.value_counts().plot(kind='bar', title='Crime by Day')\n",
    "plt.xlabel('Day')\n",
    "plt.ylabel('Count')"
   ]
  },
  {
   "cell_type": "code",
   "execution_count": 165,
   "metadata": {
    "collapsed": false
   },
   "outputs": [
    {
     "data": {
      "text/plain": [
       "Category                     Category                   \n",
       "DRUG/NARCOTIC                DRUG/NARCOTIC                  17696\n",
       "OTHER OFFENSES               OTHER OFFENSES                 13724\n",
       "LARCENY/THEFT                LARCENY/THEFT                   9903\n",
       "ASSAULT                      ASSAULT                         7679\n",
       "NON-CRIMINAL                 NON-CRIMINAL                    7467\n",
       "WARRANTS                     WARRANTS                        7326\n",
       "SUSPICIOUS OCC               SUSPICIOUS OCC                  2513\n",
       "ROBBERY                      ROBBERY                         2202\n",
       "VANDALISM                    VANDALISM                       1616\n",
       "BURGLARY                     BURGLARY                        1488\n",
       "TRESPASS                     TRESPASS                        1192\n",
       "FRAUD                        FRAUD                           1130\n",
       "VEHICLE THEFT                VEHICLE THEFT                   1006\n",
       "PROSTITUTION                 PROSTITUTION                     904\n",
       "DISORDERLY CONDUCT           DISORDERLY CONDUCT               833\n",
       "MISSING PERSON               MISSING PERSON                   833\n",
       "WEAPON LAWS                  WEAPON LAWS                      794\n",
       "SECONDARY CODES              SECONDARY CODES                  724\n",
       "FORGERY/COUNTERFEITING       FORGERY/COUNTERFEITING           562\n",
       "DRUNKENNESS                  DRUNKENNESS                      439\n",
       "STOLEN PROPERTY              STOLEN PROPERTY                  336\n",
       "SEX OFFENSES FORCIBLE        SEX OFFENSES FORCIBLE            320\n",
       "KIDNAPPING                   KIDNAPPING                       211\n",
       "LOITERING                    LOITERING                        201\n",
       "LIQUOR LAWS                  LIQUOR LAWS                      186\n",
       "RECOVERED VEHICLE            RECOVERED VEHICLE                135\n",
       "DRIVING UNDER THE INFLUENCE  DRIVING UNDER THE INFLUENCE      103\n",
       "EMBEZZLEMENT                 EMBEZZLEMENT                      91\n",
       "ARSON                        ARSON                             60\n",
       "FAMILY OFFENSES              FAMILY OFFENSES                   39\n",
       "SUICIDE                      SUICIDE                           27\n",
       "BAD CHECKS                   BAD CHECKS                        19\n",
       "BRIBERY                      BRIBERY                           15\n",
       "GAMBLING                     GAMBLING                          12\n",
       "RUNAWAY                      RUNAWAY                            9\n",
       "EXTORTION                    EXTORTION                          8\n",
       "SEX OFFENSES NON FORCIBLE    SEX OFFENSES NON FORCIBLE          5\n",
       "PORNOGRAPHY/OBSCENE MAT      PORNOGRAPHY/OBSCENE MAT            1\n",
       "dtype: int64"
      ]
     },
     "execution_count": 165,
     "metadata": {},
     "output_type": "execute_result"
    }
   ],
   "source": [
    "#Crime by category in the TL\n",
    "\n",
    "TL_crime.groupby('Category').Category.value_counts().sort_values(ascending=False)"
   ]
  },
  {
   "cell_type": "code",
   "execution_count": 21,
   "metadata": {
    "collapsed": false
   },
   "outputs": [
    {
     "data": {
      "text/plain": [
       "<matplotlib.text.Text at 0x11f0c31d0>"
      ]
     },
     "execution_count": 21,
     "metadata": {},
     "output_type": "execute_result"
    },
    {
     "data": {
      "image/png": "[encoded data removed]",
      "text/plain": [
       "<matplotlib.figure.Figure at 0x11b50cbd0>"
      ]
     },
     "metadata": {},
     "output_type": "display_data"
    }
   ],
   "source": [
    "# visualizing crime by hour\n",
    "TL_crime.Hour.value_counts().plot(kind='bar', title='Crime by Time of Day')\n",
    "plt.xlabel('Hour')\n",
    "plt.ylabel('Count')"
   ]
  },
  {
   "cell_type": "code",
   "execution_count": 36,
   "metadata": {
    "collapsed": false
   },
   "outputs": [
    {
     "data": {
      "text/plain": [
       "<matplotlib.legend.Legend at 0x1172ca510>"
      ]
     },
     "execution_count": 36,
     "metadata": {},
     "output_type": "execute_result"
    },
    {
     "data": {
      "image/png": "[encoded data removed]",
      "text/plain": [
       "<matplotlib.figure.Figure at 0x12b413750>"
      ]
     },
     "metadata": {},
     "output_type": "display_data"
    }
   ],
   "source": [
    "#Trends in the most common crime categories\n",
    "df2 = TL_crime[TL_crime['Category'].isin(['DRUG/NARCOTIC', 'LARCENY/THEFT'])].groupby('Day')['Category'].value_counts().unstack('Category').fillna(0)\n",
    "df2.plot(kind='bar', stacked=True)\n",
    "plt.legend(loc='center left', bbox_to_anchor=(1.0, 0.5))"
   ]
  },
  {
   "cell_type": "code",
   "execution_count": 11,
   "metadata": {
    "collapsed": false
   },
   "outputs": [
    {
     "data": {
      "text/plain": [
       "<matplotlib.legend.Legend at 0x12a378550>"
      ]
     },
     "execution_count": 11,
     "metadata": {},
     "output_type": "execute_result"
    },
    {
     "data": {
      "image/png": "[encoded data removed]",
      "text/plain": [
       "<matplotlib.figure.Figure at 0x101b9a590>"
      ]
     },
     "metadata": {},
     "output_type": "display_data"
    }
   ],
   "source": [
    "# Trends in other districts\n",
    "df2 = crime[crime['Category'].isin(['VEHICLE THEFT', 'ASSAULT'])].groupby('PdDistrict')['Category'].value_counts().unstack('Category').fillna(0)\n",
    "df2.plot(kind='bar', stacked=True)\n",
    "plt.legend(loc='center left', bbox_to_anchor=(1.0, 0.5))"
   ]
  },
  {
   "cell_type": "code",
   "execution_count": 28,
   "metadata": {
    "collapsed": false
   },
   "outputs": [
    {
     "data": {
      "text/plain": [
       "<matplotlib.text.Text at 0x1172683d0>"
      ]
     },
     "execution_count": 28,
     "metadata": {},
     "output_type": "execute_result"
    },
    {
     "data": {
      "image/png": "[encoded data removed]",
      "text/plain": [
       "<matplotlib.figure.Figure at 0x11720d850>"
      ]
     },
     "metadata": {},
     "output_type": "display_data"
    }
   ],
   "source": [
    "# df2 = DataFrame(rand(10, 4), columns=['a', 'b', 'c', 'd'])\n",
    "# df2.plot(kind='bar')\n",
    "\n",
    "# visualizing crime by year\n",
    "TL_crime.Year.value_counts().plot(kind='bar', title='Crime by Year')\n",
    "plt.xlabel('Year')\n",
    "plt.ylabel('Count')"
   ]
  },
  {
   "cell_type": "code",
   "execution_count": 38,
   "metadata": {
    "collapsed": false
   },
   "outputs": [
    {
     "data": {
      "text/plain": [
       "<matplotlib.legend.Legend at 0x119181350>"
      ]
     },
     "execution_count": 38,
     "metadata": {},
     "output_type": "execute_result"
    },
    {
     "data": {
      "image/png": "[encoded data removed]",
      "text/plain": [
       "<matplotlib.figure.Figure at 0x11740ad90>"
      ]
     },
     "metadata": {},
     "output_type": "display_data"
    }
   ],
   "source": [
    "df2 = TL_crime[TL_crime['Category'].isin(['DRUG/NARCOTIC', 'LARCENY/THEFT', 'OTHER OFFENSES', 'ASSAULT', 'NON CRIMINAL', 'WARRANTS', 'SUSPICIOUS OCC', 'VANDALISM'])].groupby('Year')['Category'].value_counts().unstack('Category').fillna(0)\n",
    "df2.plot(kind='bar', figsize=(12,8), stacked=True)\n",
    "plt.legend(loc='center left', bbox_to_anchor=(1.0, 0.5))"
   ]
  },
  {
   "cell_type": "code",
   "execution_count": 252,
   "metadata": {
    "collapsed": false
   },
   "outputs": [
    {
     "data": {
      "text/plain": [
       "Index([u'Category', u'Descript', u'DayOfWeek', u'PdDistrict', u'Resolution',\n",
       "       u'Address', u'X', u'Y', u'Year', u'Month', u'Day', u'Hour', u'morning',\n",
       "       u'Weekend', u'Location', u'Civic_Bart', u'mission_16th', u'powell_bart',\n",
       "       u'police_station', u'CCBart_nearest', u'police_nearest'],\n",
       "      dtype='object')"
      ]
     },
     "execution_count": 252,
     "metadata": {},
     "output_type": "execute_result"
    }
   ],
   "source": [
    "TL_crime.columns"
   ]
  },
  {
   "cell_type": "code",
   "execution_count": 26,
   "metadata": {
    "collapsed": false
   },
   "outputs": [
    {
     "data": {
      "text/plain": [
       "Year  Year\n",
       "2003  2003     993\n",
       "2004  2004    1021\n",
       "2005  2005     906\n",
       "2006  2006     925\n",
       "2007  2007    1260\n",
       "2008  2008    1728\n",
       "2009  2009    1880\n",
       "2010  2010    1194\n",
       "2011  2011     952\n",
       "2012  2012     941\n",
       "2013  2013     881\n",
       "2014  2014     784\n",
       "2015  2015     259\n",
       "dtype: int64"
      ]
     },
     "execution_count": 26,
     "metadata": {},
     "output_type": "execute_result"
    }
   ],
   "source": [
    "#Examining category=Other because it contains such a wide range of crimes.\n",
    "# TL_crime[TL_crime.Category=='OTHER OFFENSES'].groupby('Year').Year.value_counts()\n",
    "\n",
    "# TL_other = TL_crime[TL_crime.Category=='LARCENY/THEFT']\n",
    "# TL_other.groupby('Descript').Descript.value_counts()\n",
    " "
   ]
  },
  {
   "cell_type": "code",
   "execution_count": 21,
   "metadata": {
    "collapsed": false
   },
   "outputs": [
    {
     "data": {
      "text/plain": [
       "Category                     Category                   \n",
       "GAMBLING                     GAMBLING                          1\n",
       "BAD CHECKS                   BAD CHECKS                        2\n",
       "EXTORTION                    EXTORTION                         3\n",
       "BRIBERY                      BRIBERY                           7\n",
       "FAMILY OFFENSES              FAMILY OFFENSES                   9\n",
       "SUICIDE                      SUICIDE                          10\n",
       "ARSON                        ARSON                            15\n",
       "EMBEZZLEMENT                 EMBEZZLEMENT                     17\n",
       "RECOVERED VEHICLE            RECOVERED VEHICLE                27\n",
       "DRIVING UNDER THE INFLUENCE  DRIVING UNDER THE INFLUENCE      33\n",
       "LOITERING                    LOITERING                        52\n",
       "LIQUOR LAWS                  LIQUOR LAWS                      62\n",
       "KIDNAPPING                   KIDNAPPING                       69\n",
       "PROSTITUTION                 PROSTITUTION                     74\n",
       "STOLEN PROPERTY              STOLEN PROPERTY                  94\n",
       "SEX OFFENSES FORCIBLE        SEX OFFENSES FORCIBLE           103\n",
       "FORGERY/COUNTERFEITING       FORGERY/COUNTERFEITING          120\n",
       "DRUNKENNESS                  DRUNKENNESS                     142\n",
       "MISSING PERSON               MISSING PERSON                  189\n",
       "DISORDERLY CONDUCT           DISORDERLY CONDUCT              199\n",
       "WEAPON LAWS                  WEAPON LAWS                     203\n",
       "SECONDARY CODES              SECONDARY CODES                 246\n",
       "VEHICLE THEFT                VEHICLE THEFT                   299\n",
       "TRESPASS                     TRESPASS                        300\n",
       "FRAUD                        FRAUD                           331\n",
       "BURGLARY                     BURGLARY                        415\n",
       "VANDALISM                    VANDALISM                       497\n",
       "ROBBERY                      ROBBERY                         635\n",
       "SUSPICIOUS OCC               SUSPICIOUS OCC                  691\n",
       "WARRANTS                     WARRANTS                       1791\n",
       "NON-CRIMINAL                 NON-CRIMINAL                   2046\n",
       "ASSAULT                      ASSAULT                        2326\n",
       "LARCENY/THEFT                LARCENY/THEFT                  2988\n",
       "OTHER OFFENSES               OTHER OFFENSES                 3464\n",
       "DRUG/NARCOTIC                DRUG/NARCOTIC                  3828\n",
       "dtype: int64"
      ]
     },
     "execution_count": 21,
     "metadata": {},
     "output_type": "execute_result"
    }
   ],
   "source": [
    "#Looking at crimes on the weekend \n",
    "Weekend_crimes = TL_crime[TL_crime.Weekend==1]\n",
    "Weekend_crimes.groupby('Category').Category.value_counts().sort_values()"
   ]
  },
  {
   "cell_type": "code",
   "execution_count": 12,
   "metadata": {
    "collapsed": false
   },
   "outputs": [
    {
     "data": {
      "text/plain": [
       "Weekend  Category                   \n",
       "0        DRUG/NARCOTIC                  13868\n",
       "         OTHER OFFENSES                 10260\n",
       "         LARCENY/THEFT                   6915\n",
       "         WARRANTS                        5535\n",
       "         NON-CRIMINAL                    5421\n",
       "         ASSAULT                         5353\n",
       "         SUSPICIOUS OCC                  1822\n",
       "         ROBBERY                         1567\n",
       "         VANDALISM                       1119\n",
       "         BURGLARY                        1073\n",
       "         TRESPASS                         892\n",
       "         PROSTITUTION                     830\n",
       "         FRAUD                            799\n",
       "         VEHICLE THEFT                    707\n",
       "         MISSING PERSON                   644\n",
       "         DISORDERLY CONDUCT               634\n",
       "         WEAPON LAWS                      591\n",
       "         SECONDARY CODES                  478\n",
       "         FORGERY/COUNTERFEITING           442\n",
       "         DRUNKENNESS                      297\n",
       "         STOLEN PROPERTY                  242\n",
       "         SEX OFFENSES FORCIBLE            217\n",
       "         LOITERING                        149\n",
       "         KIDNAPPING                       142\n",
       "         LIQUOR LAWS                      124\n",
       "         RECOVERED VEHICLE                108\n",
       "         EMBEZZLEMENT                      74\n",
       "         DRIVING UNDER THE INFLUENCE       70\n",
       "         ARSON                             45\n",
       "         FAMILY OFFENSES                   30\n",
       "                                        ...  \n",
       "1        WARRANTS                        1791\n",
       "         SUSPICIOUS OCC                   691\n",
       "         ROBBERY                          635\n",
       "         VANDALISM                        497\n",
       "         BURGLARY                         415\n",
       "         FRAUD                            331\n",
       "         TRESPASS                         300\n",
       "         VEHICLE THEFT                    299\n",
       "         SECONDARY CODES                  246\n",
       "         WEAPON LAWS                      203\n",
       "         DISORDERLY CONDUCT               199\n",
       "         MISSING PERSON                   189\n",
       "         DRUNKENNESS                      142\n",
       "         FORGERY/COUNTERFEITING           120\n",
       "         SEX OFFENSES FORCIBLE            103\n",
       "         STOLEN PROPERTY                   94\n",
       "         PROSTITUTION                      74\n",
       "         KIDNAPPING                        69\n",
       "         LIQUOR LAWS                       62\n",
       "         LOITERING                         52\n",
       "         DRIVING UNDER THE INFLUENCE       33\n",
       "         RECOVERED VEHICLE                 27\n",
       "         EMBEZZLEMENT                      17\n",
       "         ARSON                             15\n",
       "         SUICIDE                           10\n",
       "         FAMILY OFFENSES                    9\n",
       "         BRIBERY                            7\n",
       "         EXTORTION                          3\n",
       "         BAD CHECKS                         2\n",
       "         GAMBLING                           1\n",
       "dtype: int64"
      ]
     },
     "execution_count": 12,
     "metadata": {},
     "output_type": "execute_result"
    }
   ],
   "source": [
    "#Examining Crime on the weekend days\n",
    "TL_crime.groupby('Weekend').Category.value_counts()"
   ]
  },
  {
   "cell_type": "code",
   "execution_count": 297,
   "metadata": {
    "collapsed": false
   },
   "outputs": [
    {
     "data": {
      "text/html": [
       "<div>\n",
       "<table border=\"1\" class=\"dataframe\">\n",
       "  <thead>\n",
       "    <tr style=\"text-align: right;\">\n",
       "      <th></th>\n",
       "      <th>Category</th>\n",
       "      <th>Descript</th>\n",
       "      <th>DayOfWeek</th>\n",
       "      <th>PdDistrict</th>\n",
       "      <th>Resolution</th>\n",
       "      <th>Address</th>\n",
       "      <th>X</th>\n",
       "      <th>Y</th>\n",
       "      <th>Year</th>\n",
       "      <th>Month</th>\n",
       "      <th>Day</th>\n",
       "      <th>Hour</th>\n",
       "      <th>morning</th>\n",
       "      <th>Location</th>\n",
       "      <th>Civic_Bart</th>\n",
       "      <th>mission_16th</th>\n",
       "      <th>powell_bart</th>\n",
       "      <th>police_station</th>\n",
       "      <th>CCBart_nearest</th>\n",
       "      <th>police_nearest</th>\n",
       "    </tr>\n",
       "    <tr>\n",
       "      <th>Dates</th>\n",
       "      <th></th>\n",
       "      <th></th>\n",
       "      <th></th>\n",
       "      <th></th>\n",
       "      <th></th>\n",
       "      <th></th>\n",
       "      <th></th>\n",
       "      <th></th>\n",
       "      <th></th>\n",
       "      <th></th>\n",
       "      <th></th>\n",
       "      <th></th>\n",
       "      <th></th>\n",
       "      <th></th>\n",
       "      <th></th>\n",
       "      <th></th>\n",
       "      <th></th>\n",
       "      <th></th>\n",
       "      <th></th>\n",
       "      <th></th>\n",
       "    </tr>\n",
       "  </thead>\n",
       "  <tbody>\n",
       "    <tr>\n",
       "      <th>2015-05-13 22:30:00</th>\n",
       "      <td>VANDALISM</td>\n",
       "      <td>MALICIOUS MISCHIEF, VANDALISM OF VEHICLES</td>\n",
       "      <td>Wednesday</td>\n",
       "      <td>TENDERLOIN</td>\n",
       "      <td>NONE</td>\n",
       "      <td>TURK ST / JONES ST</td>\n",
       "      <td>-122.412414</td>\n",
       "      <td>37.783004</td>\n",
       "      <td>2015</td>\n",
       "      <td>5</td>\n",
       "      <td>2</td>\n",
       "      <td>22</td>\n",
       "      <td>1</td>\n",
       "      <td>(37.7830037965, -122.412414264)</td>\n",
       "      <td>0.222158</td>\n",
       "      <td>1.322365</td>\n",
       "      <td>0.262733</td>\n",
       "      <td>0.046371</td>\n",
       "      <td>0</td>\n",
       "      <td>1</td>\n",
       "    </tr>\n",
       "    <tr>\n",
       "      <th>2015-05-13 22:00:00</th>\n",
       "      <td>ROBBERY</td>\n",
       "      <td>ROBBERY, ARMED WITH A KNIFE</td>\n",
       "      <td>Wednesday</td>\n",
       "      <td>TENDERLOIN</td>\n",
       "      <td>NONE</td>\n",
       "      <td>EDDY ST / JONES ST</td>\n",
       "      <td>-122.412597</td>\n",
       "      <td>37.783932</td>\n",
       "      <td>2015</td>\n",
       "      <td>5</td>\n",
       "      <td>2</td>\n",
       "      <td>22</td>\n",
       "      <td>1</td>\n",
       "      <td>(37.7839320277, -122.412597377)</td>\n",
       "      <td>0.282434</td>\n",
       "      <td>1.380313</td>\n",
       "      <td>0.254673</td>\n",
       "      <td>0.024237</td>\n",
       "      <td>0</td>\n",
       "      <td>1</td>\n",
       "    </tr>\n",
       "    <tr>\n",
       "      <th>2015-05-13 21:30:00</th>\n",
       "      <td>NON-CRIMINAL</td>\n",
       "      <td>FOUND PROPERTY</td>\n",
       "      <td>Wednesday</td>\n",
       "      <td>TENDERLOIN</td>\n",
       "      <td>NONE</td>\n",
       "      <td>100 Block of JONES ST</td>\n",
       "      <td>-122.412250</td>\n",
       "      <td>37.782556</td>\n",
       "      <td>2015</td>\n",
       "      <td>5</td>\n",
       "      <td>2</td>\n",
       "      <td>21</td>\n",
       "      <td>1</td>\n",
       "      <td>(37.7825563302, -122.412249768)</td>\n",
       "      <td>0.195565</td>\n",
       "      <td>1.296022</td>\n",
       "      <td>0.268478</td>\n",
       "      <td>0.078276</td>\n",
       "      <td>1</td>\n",
       "      <td>1</td>\n",
       "    </tr>\n",
       "    <tr>\n",
       "      <th>2015-05-13 21:11:00</th>\n",
       "      <td>WARRANTS</td>\n",
       "      <td>WARRANT ARREST</td>\n",
       "      <td>Wednesday</td>\n",
       "      <td>TENDERLOIN</td>\n",
       "      <td>NONE</td>\n",
       "      <td>100 Block of JONES ST</td>\n",
       "      <td>-122.412250</td>\n",
       "      <td>37.782556</td>\n",
       "      <td>2015</td>\n",
       "      <td>5</td>\n",
       "      <td>2</td>\n",
       "      <td>21</td>\n",
       "      <td>1</td>\n",
       "      <td>(37.7825563302, -122.412249768)</td>\n",
       "      <td>0.195565</td>\n",
       "      <td>1.296022</td>\n",
       "      <td>0.268478</td>\n",
       "      <td>0.078276</td>\n",
       "      <td>1</td>\n",
       "      <td>1</td>\n",
       "    </tr>\n",
       "    <tr>\n",
       "      <th>2015-05-13 21:11:00</th>\n",
       "      <td>NON-CRIMINAL</td>\n",
       "      <td>STAY AWAY OR COURT ORDER, NON-DV RELATED</td>\n",
       "      <td>Wednesday</td>\n",
       "      <td>TENDERLOIN</td>\n",
       "      <td>NONE</td>\n",
       "      <td>100 Block of JONES ST</td>\n",
       "      <td>-122.412250</td>\n",
       "      <td>37.782556</td>\n",
       "      <td>2015</td>\n",
       "      <td>5</td>\n",
       "      <td>2</td>\n",
       "      <td>21</td>\n",
       "      <td>1</td>\n",
       "      <td>(37.7825563302, -122.412249768)</td>\n",
       "      <td>0.195565</td>\n",
       "      <td>1.296022</td>\n",
       "      <td>0.268478</td>\n",
       "      <td>0.078276</td>\n",
       "      <td>1</td>\n",
       "      <td>1</td>\n",
       "    </tr>\n",
       "  </tbody>\n",
       "</table>\n",
       "</div>"
      ],
      "text/plain": [
       "                         Category                                   Descript  \\\n",
       "Dates                                                                          \n",
       "2015-05-13 22:30:00     VANDALISM  MALICIOUS MISCHIEF, VANDALISM OF VEHICLES   \n",
       "2015-05-13 22:00:00       ROBBERY                ROBBERY, ARMED WITH A KNIFE   \n",
       "2015-05-13 21:30:00  NON-CRIMINAL                             FOUND PROPERTY   \n",
       "2015-05-13 21:11:00      WARRANTS                             WARRANT ARREST   \n",
       "2015-05-13 21:11:00  NON-CRIMINAL   STAY AWAY OR COURT ORDER, NON-DV RELATED   \n",
       "\n",
       "                     DayOfWeek  PdDistrict Resolution                Address  \\\n",
       "Dates                                                                          \n",
       "2015-05-13 22:30:00  Wednesday  TENDERLOIN       NONE     TURK ST / JONES ST   \n",
       "2015-05-13 22:00:00  Wednesday  TENDERLOIN       NONE     EDDY ST / JONES ST   \n",
       "2015-05-13 21:30:00  Wednesday  TENDERLOIN       NONE  100 Block of JONES ST   \n",
       "2015-05-13 21:11:00  Wednesday  TENDERLOIN       NONE  100 Block of JONES ST   \n",
       "2015-05-13 21:11:00  Wednesday  TENDERLOIN       NONE  100 Block of JONES ST   \n",
       "\n",
       "                              X          Y  Year  Month  Day  Hour  morning  \\\n",
       "Dates                                                                         \n",
       "2015-05-13 22:30:00 -122.412414  37.783004  2015      5    2    22        1   \n",
       "2015-05-13 22:00:00 -122.412597  37.783932  2015      5    2    22        1   \n",
       "2015-05-13 21:30:00 -122.412250  37.782556  2015      5    2    21        1   \n",
       "2015-05-13 21:11:00 -122.412250  37.782556  2015      5    2    21        1   \n",
       "2015-05-13 21:11:00 -122.412250  37.782556  2015      5    2    21        1   \n",
       "\n",
       "                                            Location  Civic_Bart  \\\n",
       "Dates                                                              \n",
       "2015-05-13 22:30:00  (37.7830037965, -122.412414264)    0.222158   \n",
       "2015-05-13 22:00:00  (37.7839320277, -122.412597377)    0.282434   \n",
       "2015-05-13 21:30:00  (37.7825563302, -122.412249768)    0.195565   \n",
       "2015-05-13 21:11:00  (37.7825563302, -122.412249768)    0.195565   \n",
       "2015-05-13 21:11:00  (37.7825563302, -122.412249768)    0.195565   \n",
       "\n",
       "                     mission_16th  powell_bart  police_station  \\\n",
       "Dates                                                            \n",
       "2015-05-13 22:30:00      1.322365     0.262733        0.046371   \n",
       "2015-05-13 22:00:00      1.380313     0.254673        0.024237   \n",
       "2015-05-13 21:30:00      1.296022     0.268478        0.078276   \n",
       "2015-05-13 21:11:00      1.296022     0.268478        0.078276   \n",
       "2015-05-13 21:11:00      1.296022     0.268478        0.078276   \n",
       "\n",
       "                     CCBart_nearest  police_nearest  \n",
       "Dates                                                \n",
       "2015-05-13 22:30:00               0               1  \n",
       "2015-05-13 22:00:00               0               1  \n",
       "2015-05-13 21:30:00               1               1  \n",
       "2015-05-13 21:11:00               1               1  \n",
       "2015-05-13 21:11:00               1               1  "
      ]
     },
     "execution_count": 297,
     "metadata": {},
     "output_type": "execute_result"
    }
   ],
   "source": [
    "TL_crime = TL_crime.drop(TL_crime[TL_crime.Category == 'OTHER OFFENSES'].index)\n",
    "TL_crime.head()"
   ]
  },
  {
   "cell_type": "code",
   "execution_count": 298,
   "metadata": {
    "collapsed": false
   },
   "outputs": [
    {
     "data": {
      "text/plain": [
       "Index([u'Category', u'Descript', u'DayOfWeek', u'PdDistrict', u'Resolution',\n",
       "       u'Address', u'X', u'Y', u'Year', u'Month', u'Day', u'Hour', u'morning',\n",
       "       u'Location', u'Civic_Bart', u'mission_16th', u'powell_bart',\n",
       "       u'police_station', u'CCBart_nearest', u'police_nearest'],\n",
       "      dtype='object')"
      ]
     },
     "execution_count": 298,
     "metadata": {},
     "output_type": "execute_result"
    }
   ],
   "source": [
    "TL_crime.columns"
   ]
  },
  {
   "cell_type": "code",
   "execution_count": 187,
   "metadata": {
    "collapsed": false
   },
   "outputs": [
    {
     "data": {
      "text/plain": [
       "(54784, 21)"
      ]
     },
     "execution_count": 187,
     "metadata": {},
     "output_type": "execute_result"
    }
   ],
   "source": [
    "TL_crime.shape"
   ]
  },
  {
   "cell_type": "code",
   "execution_count": 299,
   "metadata": {
    "collapsed": false
   },
   "outputs": [],
   "source": [
    "#There are some rows with incorrect coordinates. These points all have lat,long coordinates of (90,-120.5)\n",
    "TL_crime = TL_crime.drop(TL_crime[TL_crime.Y ==90.000000].index)\n",
    "                                  "
   ]
  },
  {
   "cell_type": "code",
   "execution_count": 300,
   "metadata": {
    "collapsed": false
   },
   "outputs": [
    {
     "data": {
      "text/plain": [
       "Index([u'Category', u'Descript', u'DayOfWeek', u'PdDistrict', u'Resolution',\n",
       "       u'Address', u'X', u'Y', u'Year', u'Month', u'Day', u'Hour', u'morning',\n",
       "       u'Location', u'Civic_Bart', u'mission_16th', u'powell_bart',\n",
       "       u'police_station', u'CCBart_nearest', u'police_nearest'],\n",
       "      dtype='object')"
      ]
     },
     "execution_count": 300,
     "metadata": {},
     "output_type": "execute_result"
    }
   ],
   "source": [
    "TL_crime.columns"
   ]
  },
  {
   "cell_type": "code",
   "execution_count": 189,
   "metadata": {
    "collapsed": false
   },
   "outputs": [
    {
     "data": {
      "text/plain": [
       "count    54772.000000\n",
       "mean      -122.412360\n",
       "std          0.003013\n",
       "min       -122.469632\n",
       "25%       -122.414593\n",
       "50%       -122.412784\n",
       "75%       -122.410157\n",
       "max       -122.404588\n",
       "Name: X, dtype: float64"
      ]
     },
     "execution_count": 189,
     "metadata": {},
     "output_type": "execute_result"
    }
   ],
   "source": [
    "#double check that all X values seem normal after dropping Y=90\n",
    "TL_crime.X.describe()"
   ]
  },
  {
   "cell_type": "code",
   "execution_count": 190,
   "metadata": {
    "collapsed": true
   },
   "outputs": [],
   "source": [
    "#import count vectorizer\n",
    "from sklearn.feature_extraction.text import CountVectorizer, TfidfVectorizer\n",
    "from textblob import TextBlob, Word\n",
    "from nltk.stem.snowball import SnowballStemmer\n",
    "from sklearn.cross_validation import train_test_split\n",
    "from sklearn.linear_model import LogisticRegression\n",
    "from sklearn import metrics"
   ]
  },
  {
   "cell_type": "code",
   "execution_count": null,
   "metadata": {
    "collapsed": true
   },
   "outputs": [],
   "source": [
    "# Count vectorizer documentation for reference\n",
    "# CountVectorizer(analyzer=u'word', binary=False, decode_error=u'strict',\n",
    "#         dtype=<type 'numpy.int64'>, encoding=u'utf-8', input=u'content',\n",
    "#         lowercase=True, max_df=1.0, max_features=None, min_df=1,\n",
    "#         ngram_range=(1, 1), preprocessor=None, stop_words=None,\n",
    "#         strip_accents=None, token_pattern=u'(?u)\\\\b\\\\w\\\\w+\\\\b',\n",
    "#         tokenizer=None, vocabulary=None)"
   ]
  },
  {
   "cell_type": "code",
   "execution_count": 110,
   "metadata": {
    "collapsed": false
   },
   "outputs": [
    {
     "name": "stdout",
     "output_type": "stream",
     "text": [
      "8     11177\n",
      "4      9237\n",
      "2      6941\n",
      "7      6823\n",
      "3      5366\n",
      "6      2386\n",
      "1      1977\n",
      "0      1502\n",
      "13     1236\n",
      "17      970\n",
      "16      938\n",
      "5       835\n",
      "25      795\n",
      "20      787\n",
      "11      607\n",
      "14      528\n",
      "23      480\n",
      "10      428\n",
      "21      307\n",
      "12      298\n",
      "9       209\n",
      "29      184\n",
      "15      177\n",
      "19      139\n",
      "31      125\n",
      "24       89\n",
      "18       58\n",
      "27       55\n",
      "28       35\n",
      "32       26\n",
      "34       17\n",
      "26       13\n",
      "22        9\n",
      "35        8\n",
      "33        7\n",
      "30        3\n",
      "Name: Category, dtype: int64\n"
     ]
    }
   ],
   "source": [
    "# define X and y\n",
    "TL_text = TL_crime[['Address', 'Category']]\n",
    "\n",
    "X = TL_text.Address\n",
    "y = TL_text.Category\n",
    "print y.value_counts()\n",
    "\n",
    "# # split the new DataFrame into training and testing sets\n",
    "X_train, X_test, y_train, y_test = train_test_split(X, y, random_state=1)"
   ]
  },
  {
   "cell_type": "code",
   "execution_count": 45,
   "metadata": {
    "collapsed": false
   },
   "outputs": [],
   "source": [
    "# use CountVectorizer to create document-term matrices from X_train and X_test\n",
    "stop_words = ['ST', 'AV', 'Block', 'of','WY','BL','CT','st','ct', 'pl', 'pz', 'av', 'block', 'ada']\n",
    "vect = CountVectorizer(analyzer='word', decode_error='ignore', max_features=300, stop_words=stop_words)\n",
    "X_train_dtm = vect.fit_transform(X_train)\n",
    "X_test_dtm = vect.transform(X_test)"
   ]
  },
  {
   "cell_type": "code",
   "execution_count": 46,
   "metadata": {
    "collapsed": false
   },
   "outputs": [
    {
     "data": {
      "text/plain": [
       "(41088, 57)"
      ]
     },
     "execution_count": 46,
     "metadata": {},
     "output_type": "execute_result"
    }
   ],
   "source": [
    "# rows are documents, columns are terms (aka \"tokens\" or \"features\")\n",
    "X_train_dtm.shape"
   ]
  },
  {
   "cell_type": "code",
   "execution_count": 47,
   "metadata": {
    "collapsed": false
   },
   "outputs": [
    {
     "name": "stdout",
     "output_type": "stream",
     "text": [
      "[u'100', u'1000', u'1200', u'1400', u'1500', u'200', u'300', u'3700', u'400', u'500', u'5thstnorth', u'600', u'700', u'7thstnorth', u'8th', u'9th', u'antonio', u'breen', u'brenham', u'bush', u'charles', u'cohen', u'cyril', u'dodge', u'eddy', u'ellis', u'elwood', u'fulton', u'gate', u'geary', u'golden', u'grant', u'grove', u'hayes', u'hyde', u'ingalls', u'jennings', u'jones', u'larkin', u'leavenworth', u'magnin', u'market', u'mason', u'mcallister', u'nations', u'ofarrell', u'plorth', u'post', u'powell', u'shannon', u'steveloe', u'stockton', u'storth', u'taylor', u'turk', u'united', u'unitednations']\n"
     ]
    }
   ],
   "source": [
    "print vect.get_feature_names()[-63:]"
   ]
  },
  {
   "cell_type": "code",
   "execution_count": 48,
   "metadata": {
    "collapsed": false
   },
   "outputs": [
    {
     "name": "stdout",
     "output_type": "stream",
     "text": [
      "0.310309579439\n"
     ]
    }
   ],
   "source": [
    "\n",
    "# create document-term matrices :: only single words\n",
    "X_train_dtm = vect.fit_transform(X_train)\n",
    "X_test_dtm = vect.transform(X_test)\n",
    "\n",
    "# use logistic regression with text column only\n",
    "logreg = LogisticRegression()\n",
    "logreg.fit(X_train_dtm, y_train)\n",
    "y_pred_class = logreg.predict(X_test_dtm)\n",
    "\n",
    "# calculate accuracy - the accuracy is not great\n",
    "print metrics.accuracy_score(y_test, y_pred_class)"
   ]
  },
  {
   "cell_type": "code",
   "execution_count": 49,
   "metadata": {
    "collapsed": true
   },
   "outputs": [],
   "source": [
    "# define a function that accepts a vectorizer and calculates the accuracy\n",
    "def tokenize_test(vect):\n",
    "    X_train_dtm = vect.fit_transform(X_train)\n",
    "    print 'Features: ', X_train_dtm.shape[1]\n",
    "    X_test_dtm = vect.transform(X_test)\n",
    "    logreg = LogisticRegression()\n",
    "    logreg.fit(X_train_dtm, y_train)\n",
    "    y_pred_class = logreg.predict(X_test_dtm)\n",
    "    print 'Accuracy: ', metrics.accuracy_score(y_test, y_pred_class)"
   ]
  },
  {
   "cell_type": "code",
   "execution_count": 50,
   "metadata": {
    "collapsed": false
   },
   "outputs": [
    {
     "name": "stdout",
     "output_type": "stream",
     "text": [
      "Features:  197\n",
      "Accuracy:  0.316880841121\n"
     ]
    }
   ],
   "source": [
    "# include 1-grams and 2-grams\n",
    "vect = CountVectorizer(ngram_range=(1, 2))\n",
    "tokenize_test(vect)"
   ]
  },
  {
   "cell_type": "code",
   "execution_count": 51,
   "metadata": {
    "collapsed": false
   },
   "outputs": [
    {
     "name": "stdout",
     "output_type": "stream",
     "text": [
      "Features:  65\n",
      "Accuracy:  0.310163551402\n"
     ]
    }
   ],
   "source": [
    "#try setting max features - makes it worse! \n",
    "vect = CountVectorizer(max_features=100)\n",
    "tokenize_test(vect)"
   ]
  },
  {
   "cell_type": "code",
   "execution_count": 53,
   "metadata": {
    "collapsed": false
   },
   "outputs": [
    {
     "data": {
      "text/html": [
       "<div>\n",
       "<table border=\"1\" class=\"dataframe\">\n",
       "  <thead>\n",
       "    <tr style=\"text-align: right;\">\n",
       "      <th></th>\n",
       "      <th>100</th>\n",
       "      <th>1000</th>\n",
       "      <th>1200</th>\n",
       "      <th>1400</th>\n",
       "      <th>1500</th>\n",
       "      <th>200</th>\n",
       "      <th>300</th>\n",
       "      <th>3700</th>\n",
       "      <th>400</th>\n",
       "      <th>500</th>\n",
       "      <th>...</th>\n",
       "      <th>pz</th>\n",
       "      <th>shannon</th>\n",
       "      <th>st</th>\n",
       "      <th>steveloe</th>\n",
       "      <th>stockton</th>\n",
       "      <th>storth</th>\n",
       "      <th>taylor</th>\n",
       "      <th>turk</th>\n",
       "      <th>united</th>\n",
       "      <th>unitednations</th>\n",
       "    </tr>\n",
       "  </thead>\n",
       "  <tbody>\n",
       "    <tr>\n",
       "      <th>count</th>\n",
       "      <td>41088.000000</td>\n",
       "      <td>41088.000000</td>\n",
       "      <td>41088.000000</td>\n",
       "      <td>41088.000000</td>\n",
       "      <td>41088.000000</td>\n",
       "      <td>41088.000000</td>\n",
       "      <td>41088.000000</td>\n",
       "      <td>41088.000000</td>\n",
       "      <td>41088.000000</td>\n",
       "      <td>41088.000000</td>\n",
       "      <td>...</td>\n",
       "      <td>41088.000000</td>\n",
       "      <td>41088.000000</td>\n",
       "      <td>41088.000000</td>\n",
       "      <td>41088.000000</td>\n",
       "      <td>41088.000000</td>\n",
       "      <td>41088.000000</td>\n",
       "      <td>41088.000000</td>\n",
       "      <td>41088.000000</td>\n",
       "      <td>41088.000000</td>\n",
       "      <td>41088.000000</td>\n",
       "    </tr>\n",
       "    <tr>\n",
       "      <th>mean</th>\n",
       "      <td>0.175136</td>\n",
       "      <td>0.000195</td>\n",
       "      <td>0.000122</td>\n",
       "      <td>0.000389</td>\n",
       "      <td>0.000073</td>\n",
       "      <td>0.100151</td>\n",
       "      <td>0.111833</td>\n",
       "      <td>0.000073</td>\n",
       "      <td>0.095210</td>\n",
       "      <td>0.046291</td>\n",
       "      <td>...</td>\n",
       "      <td>0.016550</td>\n",
       "      <td>0.001193</td>\n",
       "      <td>1.158635</td>\n",
       "      <td>0.000608</td>\n",
       "      <td>0.024679</td>\n",
       "      <td>0.001363</td>\n",
       "      <td>0.066321</td>\n",
       "      <td>0.150141</td>\n",
       "      <td>0.002872</td>\n",
       "      <td>0.013678</td>\n",
       "    </tr>\n",
       "    <tr>\n",
       "      <th>std</th>\n",
       "      <td>0.380088</td>\n",
       "      <td>0.013952</td>\n",
       "      <td>0.011031</td>\n",
       "      <td>0.019730</td>\n",
       "      <td>0.008545</td>\n",
       "      <td>0.300205</td>\n",
       "      <td>0.315165</td>\n",
       "      <td>0.008545</td>\n",
       "      <td>0.293509</td>\n",
       "      <td>0.210117</td>\n",
       "      <td>...</td>\n",
       "      <td>0.127579</td>\n",
       "      <td>0.034513</td>\n",
       "      <td>0.510222</td>\n",
       "      <td>0.024660</td>\n",
       "      <td>0.155146</td>\n",
       "      <td>0.036893</td>\n",
       "      <td>0.248846</td>\n",
       "      <td>0.357214</td>\n",
       "      <td>0.053514</td>\n",
       "      <td>0.116152</td>\n",
       "    </tr>\n",
       "    <tr>\n",
       "      <th>min</th>\n",
       "      <td>0.000000</td>\n",
       "      <td>0.000000</td>\n",
       "      <td>0.000000</td>\n",
       "      <td>0.000000</td>\n",
       "      <td>0.000000</td>\n",
       "      <td>0.000000</td>\n",
       "      <td>0.000000</td>\n",
       "      <td>0.000000</td>\n",
       "      <td>0.000000</td>\n",
       "      <td>0.000000</td>\n",
       "      <td>...</td>\n",
       "      <td>0.000000</td>\n",
       "      <td>0.000000</td>\n",
       "      <td>0.000000</td>\n",
       "      <td>0.000000</td>\n",
       "      <td>0.000000</td>\n",
       "      <td>0.000000</td>\n",
       "      <td>0.000000</td>\n",
       "      <td>0.000000</td>\n",
       "      <td>0.000000</td>\n",
       "      <td>0.000000</td>\n",
       "    </tr>\n",
       "    <tr>\n",
       "      <th>25%</th>\n",
       "      <td>0.000000</td>\n",
       "      <td>0.000000</td>\n",
       "      <td>0.000000</td>\n",
       "      <td>0.000000</td>\n",
       "      <td>0.000000</td>\n",
       "      <td>0.000000</td>\n",
       "      <td>0.000000</td>\n",
       "      <td>0.000000</td>\n",
       "      <td>0.000000</td>\n",
       "      <td>0.000000</td>\n",
       "      <td>...</td>\n",
       "      <td>0.000000</td>\n",
       "      <td>0.000000</td>\n",
       "      <td>1.000000</td>\n",
       "      <td>0.000000</td>\n",
       "      <td>0.000000</td>\n",
       "      <td>0.000000</td>\n",
       "      <td>0.000000</td>\n",
       "      <td>0.000000</td>\n",
       "      <td>0.000000</td>\n",
       "      <td>0.000000</td>\n",
       "    </tr>\n",
       "    <tr>\n",
       "      <th>50%</th>\n",
       "      <td>0.000000</td>\n",
       "      <td>0.000000</td>\n",
       "      <td>0.000000</td>\n",
       "      <td>0.000000</td>\n",
       "      <td>0.000000</td>\n",
       "      <td>0.000000</td>\n",
       "      <td>0.000000</td>\n",
       "      <td>0.000000</td>\n",
       "      <td>0.000000</td>\n",
       "      <td>0.000000</td>\n",
       "      <td>...</td>\n",
       "      <td>0.000000</td>\n",
       "      <td>0.000000</td>\n",
       "      <td>1.000000</td>\n",
       "      <td>0.000000</td>\n",
       "      <td>0.000000</td>\n",
       "      <td>0.000000</td>\n",
       "      <td>0.000000</td>\n",
       "      <td>0.000000</td>\n",
       "      <td>0.000000</td>\n",
       "      <td>0.000000</td>\n",
       "    </tr>\n",
       "    <tr>\n",
       "      <th>75%</th>\n",
       "      <td>0.000000</td>\n",
       "      <td>0.000000</td>\n",
       "      <td>0.000000</td>\n",
       "      <td>0.000000</td>\n",
       "      <td>0.000000</td>\n",
       "      <td>0.000000</td>\n",
       "      <td>0.000000</td>\n",
       "      <td>0.000000</td>\n",
       "      <td>0.000000</td>\n",
       "      <td>0.000000</td>\n",
       "      <td>...</td>\n",
       "      <td>0.000000</td>\n",
       "      <td>0.000000</td>\n",
       "      <td>1.000000</td>\n",
       "      <td>0.000000</td>\n",
       "      <td>0.000000</td>\n",
       "      <td>0.000000</td>\n",
       "      <td>0.000000</td>\n",
       "      <td>0.000000</td>\n",
       "      <td>0.000000</td>\n",
       "      <td>0.000000</td>\n",
       "    </tr>\n",
       "    <tr>\n",
       "      <th>max</th>\n",
       "      <td>1.000000</td>\n",
       "      <td>1.000000</td>\n",
       "      <td>1.000000</td>\n",
       "      <td>1.000000</td>\n",
       "      <td>1.000000</td>\n",
       "      <td>1.000000</td>\n",
       "      <td>1.000000</td>\n",
       "      <td>1.000000</td>\n",
       "      <td>1.000000</td>\n",
       "      <td>1.000000</td>\n",
       "      <td>...</td>\n",
       "      <td>1.000000</td>\n",
       "      <td>1.000000</td>\n",
       "      <td>2.000000</td>\n",
       "      <td>1.000000</td>\n",
       "      <td>1.000000</td>\n",
       "      <td>1.000000</td>\n",
       "      <td>1.000000</td>\n",
       "      <td>1.000000</td>\n",
       "      <td>1.000000</td>\n",
       "      <td>1.000000</td>\n",
       "    </tr>\n",
       "  </tbody>\n",
       "</table>\n",
       "<p>8 rows × 65 columns</p>\n",
       "</div>"
      ],
      "text/plain": [
       "                100          1000          1200          1400          1500  \\\n",
       "count  41088.000000  41088.000000  41088.000000  41088.000000  41088.000000   \n",
       "mean       0.175136      0.000195      0.000122      0.000389      0.000073   \n",
       "std        0.380088      0.013952      0.011031      0.019730      0.008545   \n",
       "min        0.000000      0.000000      0.000000      0.000000      0.000000   \n",
       "25%        0.000000      0.000000      0.000000      0.000000      0.000000   \n",
       "50%        0.000000      0.000000      0.000000      0.000000      0.000000   \n",
       "75%        0.000000      0.000000      0.000000      0.000000      0.000000   \n",
       "max        1.000000      1.000000      1.000000      1.000000      1.000000   \n",
       "\n",
       "                200           300          3700           400           500  \\\n",
       "count  41088.000000  41088.000000  41088.000000  41088.000000  41088.000000   \n",
       "mean       0.100151      0.111833      0.000073      0.095210      0.046291   \n",
       "std        0.300205      0.315165      0.008545      0.293509      0.210117   \n",
       "min        0.000000      0.000000      0.000000      0.000000      0.000000   \n",
       "25%        0.000000      0.000000      0.000000      0.000000      0.000000   \n",
       "50%        0.000000      0.000000      0.000000      0.000000      0.000000   \n",
       "75%        0.000000      0.000000      0.000000      0.000000      0.000000   \n",
       "max        1.000000      1.000000      1.000000      1.000000      1.000000   \n",
       "\n",
       "           ...                  pz       shannon            st      steveloe  \\\n",
       "count      ...        41088.000000  41088.000000  41088.000000  41088.000000   \n",
       "mean       ...            0.016550      0.001193      1.158635      0.000608   \n",
       "std        ...            0.127579      0.034513      0.510222      0.024660   \n",
       "min        ...            0.000000      0.000000      0.000000      0.000000   \n",
       "25%        ...            0.000000      0.000000      1.000000      0.000000   \n",
       "50%        ...            0.000000      0.000000      1.000000      0.000000   \n",
       "75%        ...            0.000000      0.000000      1.000000      0.000000   \n",
       "max        ...            1.000000      1.000000      2.000000      1.000000   \n",
       "\n",
       "           stockton        storth        taylor          turk        united  \\\n",
       "count  41088.000000  41088.000000  41088.000000  41088.000000  41088.000000   \n",
       "mean       0.024679      0.001363      0.066321      0.150141      0.002872   \n",
       "std        0.155146      0.036893      0.248846      0.357214      0.053514   \n",
       "min        0.000000      0.000000      0.000000      0.000000      0.000000   \n",
       "25%        0.000000      0.000000      0.000000      0.000000      0.000000   \n",
       "50%        0.000000      0.000000      0.000000      0.000000      0.000000   \n",
       "75%        0.000000      0.000000      0.000000      0.000000      0.000000   \n",
       "max        1.000000      1.000000      1.000000      1.000000      1.000000   \n",
       "\n",
       "       unitednations  \n",
       "count   41088.000000  \n",
       "mean        0.013678  \n",
       "std         0.116152  \n",
       "min         0.000000  \n",
       "25%         0.000000  \n",
       "50%         0.000000  \n",
       "75%         0.000000  \n",
       "max         1.000000  \n",
       "\n",
       "[8 rows x 65 columns]"
      ]
     },
     "execution_count": 53,
     "metadata": {},
     "output_type": "execute_result"
    }
   ],
   "source": [
    "tf = pd.DataFrame(vect.fit_transform(X_train).toarray(), columns=vect.get_feature_names())\n",
    "tf.describe()"
   ]
  },
  {
   "cell_type": "code",
   "execution_count": 57,
   "metadata": {
    "collapsed": false
   },
   "outputs": [
    {
     "data": {
      "text/plain": [
       "(54784, 67)"
      ]
     },
     "execution_count": 57,
     "metadata": {},
     "output_type": "execute_result"
    }
   ],
   "source": [
    "# create a document-term matrix using TF-IDF\n",
    "dtm = vect.fit_transform(TL_text.Address)\n",
    "features = vect.get_feature_names()\n",
    "dtm.shape"
   ]
  },
  {
   "cell_type": "markdown",
   "metadata": {},
   "source": [
    "Now I will try using a decision tree to predict the category of crime"
   ]
  },
  {
   "cell_type": "code",
   "execution_count": 254,
   "metadata": {
    "collapsed": false
   },
   "outputs": [
    {
     "name": "stderr",
     "output_type": "stream",
     "text": [
      "/Users/Allison/anaconda/lib/python2.7/site-packages/ipykernel/__main__.py:2: SettingWithCopyWarning: \n",
      "A value is trying to be set on a copy of a slice from a DataFrame.\n",
      "Try using .loc[row_indexer,col_indexer] = value instead\n",
      "\n",
      "See the caveats in the documentation: http://pandas.pydata.org/pandas-docs/stable/indexing.html#indexing-view-versus-copy\n",
      "  from ipykernel import kernelapp as app\n"
     ]
    },
    {
     "data": {
      "text/html": [
       "<div>\n",
       "<table border=\"1\" class=\"dataframe\">\n",
       "  <thead>\n",
       "    <tr style=\"text-align: right;\">\n",
       "      <th></th>\n",
       "      <th>Category</th>\n",
       "      <th>Descript</th>\n",
       "      <th>DayOfWeek</th>\n",
       "      <th>PdDistrict</th>\n",
       "      <th>Resolution</th>\n",
       "      <th>Address</th>\n",
       "      <th>X</th>\n",
       "      <th>Y</th>\n",
       "      <th>Year</th>\n",
       "      <th>Month</th>\n",
       "      <th>...</th>\n",
       "      <th>Hour</th>\n",
       "      <th>morning</th>\n",
       "      <th>Weekend</th>\n",
       "      <th>Location</th>\n",
       "      <th>Civic_Bart</th>\n",
       "      <th>mission_16th</th>\n",
       "      <th>powell_bart</th>\n",
       "      <th>police_station</th>\n",
       "      <th>CCBart_nearest</th>\n",
       "      <th>police_nearest</th>\n",
       "    </tr>\n",
       "    <tr>\n",
       "      <th>Dates</th>\n",
       "      <th></th>\n",
       "      <th></th>\n",
       "      <th></th>\n",
       "      <th></th>\n",
       "      <th></th>\n",
       "      <th></th>\n",
       "      <th></th>\n",
       "      <th></th>\n",
       "      <th></th>\n",
       "      <th></th>\n",
       "      <th></th>\n",
       "      <th></th>\n",
       "      <th></th>\n",
       "      <th></th>\n",
       "      <th></th>\n",
       "      <th></th>\n",
       "      <th></th>\n",
       "      <th></th>\n",
       "      <th></th>\n",
       "      <th></th>\n",
       "      <th></th>\n",
       "    </tr>\n",
       "  </thead>\n",
       "  <tbody>\n",
       "    <tr>\n",
       "      <th>2015-05-13 22:30:00</th>\n",
       "      <td>0</td>\n",
       "      <td>MALICIOUS MISCHIEF, VANDALISM OF VEHICLES</td>\n",
       "      <td>Wednesday</td>\n",
       "      <td>TENDERLOIN</td>\n",
       "      <td>NONE</td>\n",
       "      <td>TURK ST / JONES ST</td>\n",
       "      <td>-122.412414</td>\n",
       "      <td>37.783004</td>\n",
       "      <td>2015</td>\n",
       "      <td>5</td>\n",
       "      <td>...</td>\n",
       "      <td>22</td>\n",
       "      <td>1</td>\n",
       "      <td>0</td>\n",
       "      <td>(37.7830037965, -122.412414264)</td>\n",
       "      <td>0.222158</td>\n",
       "      <td>1.322365</td>\n",
       "      <td>0.262733</td>\n",
       "      <td>0.046371</td>\n",
       "      <td>0</td>\n",
       "      <td>1</td>\n",
       "    </tr>\n",
       "    <tr>\n",
       "      <th>2015-05-13 22:00:00</th>\n",
       "      <td>1</td>\n",
       "      <td>ROBBERY, ARMED WITH A KNIFE</td>\n",
       "      <td>Wednesday</td>\n",
       "      <td>TENDERLOIN</td>\n",
       "      <td>NONE</td>\n",
       "      <td>EDDY ST / JONES ST</td>\n",
       "      <td>-122.412597</td>\n",
       "      <td>37.783932</td>\n",
       "      <td>2015</td>\n",
       "      <td>5</td>\n",
       "      <td>...</td>\n",
       "      <td>22</td>\n",
       "      <td>1</td>\n",
       "      <td>0</td>\n",
       "      <td>(37.7839320277, -122.412597377)</td>\n",
       "      <td>0.282434</td>\n",
       "      <td>1.380313</td>\n",
       "      <td>0.254673</td>\n",
       "      <td>0.024237</td>\n",
       "      <td>0</td>\n",
       "      <td>1</td>\n",
       "    </tr>\n",
       "  </tbody>\n",
       "</table>\n",
       "<p>2 rows × 21 columns</p>\n",
       "</div>"
      ],
      "text/plain": [
       "                     Category                                   Descript  \\\n",
       "Dates                                                                      \n",
       "2015-05-13 22:30:00         0  MALICIOUS MISCHIEF, VANDALISM OF VEHICLES   \n",
       "2015-05-13 22:00:00         1                ROBBERY, ARMED WITH A KNIFE   \n",
       "\n",
       "                     DayOfWeek  PdDistrict Resolution             Address  \\\n",
       "Dates                                                                       \n",
       "2015-05-13 22:30:00  Wednesday  TENDERLOIN       NONE  TURK ST / JONES ST   \n",
       "2015-05-13 22:00:00  Wednesday  TENDERLOIN       NONE  EDDY ST / JONES ST   \n",
       "\n",
       "                              X          Y  Year  Month       ...        Hour  \\\n",
       "Dates                                                         ...               \n",
       "2015-05-13 22:30:00 -122.412414  37.783004  2015      5       ...          22   \n",
       "2015-05-13 22:00:00 -122.412597  37.783932  2015      5       ...          22   \n",
       "\n",
       "                     morning  Weekend                         Location  \\\n",
       "Dates                                                                    \n",
       "2015-05-13 22:30:00        1        0  (37.7830037965, -122.412414264)   \n",
       "2015-05-13 22:00:00        1        0  (37.7839320277, -122.412597377)   \n",
       "\n",
       "                    Civic_Bart  mission_16th  powell_bart  police_station  \\\n",
       "Dates                                                                       \n",
       "2015-05-13 22:30:00   0.222158      1.322365     0.262733        0.046371   \n",
       "2015-05-13 22:00:00   0.282434      1.380313     0.254673        0.024237   \n",
       "\n",
       "                     CCBart_nearest  police_nearest  \n",
       "Dates                                                \n",
       "2015-05-13 22:30:00               0               1  \n",
       "2015-05-13 22:00:00               0               1  \n",
       "\n",
       "[2 rows x 21 columns]"
      ]
     },
     "execution_count": 254,
     "metadata": {},
     "output_type": "execute_result"
    }
   ],
   "source": [
    "#factorize Category for the decision tree in a new data frame\n",
    "TL_crime['Category'] = pd.factorize(TL_crime.Category)[0]\n",
    "TL_crime.head(2)"
   ]
  },
  {
   "cell_type": "code",
   "execution_count": 122,
   "metadata": {
    "collapsed": false
   },
   "outputs": [
    {
     "data": {
      "text/plain": [
       "count    54772.000000\n",
       "mean         0.323815\n",
       "std          0.140840\n",
       "min          0.039911\n",
       "25%          0.220751\n",
       "50%          0.312483\n",
       "75%          0.407139\n",
       "max          3.107541\n",
       "Name: Civic_Bart, dtype: float64"
      ]
     },
     "execution_count": 122,
     "metadata": {},
     "output_type": "execute_result"
    }
   ],
   "source": [
    "#Looking at the distances from Civic Center Bart\n",
    "TL_crime.Civic_Bart.describe()"
   ]
  },
  {
   "cell_type": "code",
   "execution_count": 123,
   "metadata": {
    "collapsed": false
   },
   "outputs": [
    {
     "data": {
      "text/plain": [
       "count    54772.000000\n",
       "mean         0.185618\n",
       "std          0.106045\n",
       "min          0.014876\n",
       "25%          0.108868\n",
       "50%          0.160803\n",
       "75%          0.243185\n",
       "max          3.194318\n",
       "Name: police_station, dtype: float64"
      ]
     },
     "execution_count": 123,
     "metadata": {},
     "output_type": "execute_result"
    }
   ],
   "source": [
    "#Looking at the distances from the police station\n",
    "TL_crime.police_station.describe()"
   ]
  },
  {
   "cell_type": "code",
   "execution_count": 130,
   "metadata": {
    "collapsed": true
   },
   "outputs": [],
   "source": [
    "from sklearn.ensemble import RandomForestClassifier\n",
    "rfreg = RandomForestClassifier()"
   ]
  },
  {
   "cell_type": "code",
   "execution_count": 237,
   "metadata": {
    "collapsed": false
   },
   "outputs": [
    {
     "data": {
      "text/plain": [
       "Index([u'Category', u'Descript', u'DayOfWeek', u'PdDistrict', u'Resolution',\n",
       "       u'Address', u'X', u'Y', u'Year', u'Month', u'Day', u'Hour', u'morning',\n",
       "       u'Location', u'Civic_Bart', u'mission_16th', u'powell_bart',\n",
       "       u'police_station', u'CCBart_nearest', u'police_nearest'],\n",
       "      dtype='object')"
      ]
     },
     "execution_count": 237,
     "metadata": {},
     "output_type": "execute_result"
    }
   ],
   "source": [
    "TL_crime.columns"
   ]
  },
  {
   "cell_type": "code",
   "execution_count": 303,
   "metadata": {
    "collapsed": true
   },
   "outputs": [],
   "source": [
    "feature_cols=['Civic_Bart', 'mission_16th', 'powell_bart','morning', 'police_station', 'police_nearest']\n",
    "# feature_cols=['Civic_Bart', 'police_station', 'Hour']\n",
    "# feature_cols=['Civic_Bart', 'mission_16th', 'powell_bart','morning', 'police_station', 'Hour', 'Weekend']\n",
    "# feature_cols = "
   ]
  },
  {
   "cell_type": "code",
   "execution_count": 304,
   "metadata": {
    "collapsed": false
   },
   "outputs": [],
   "source": [
    "# define X and y\n",
    "X = TL_crime[feature_cols]\n",
    "y = TL_crime.Category\n",
    "\n",
    "\n"
   ]
  },
  {
   "cell_type": "code",
   "execution_count": 305,
   "metadata": {
    "collapsed": false
   },
   "outputs": [
    {
     "data": {
      "text/plain": [
       "DecisionTreeClassifier(class_weight=None, criterion='gini', max_depth=3,\n",
       "            max_features=None, max_leaf_nodes=None, min_samples_leaf=1,\n",
       "            min_samples_split=2, min_weight_fraction_leaf=0.0,\n",
       "            presort=False, random_state=1, splitter='best')"
      ]
     },
     "execution_count": 305,
     "metadata": {},
     "output_type": "execute_result"
    }
   ],
   "source": [
    "from sklearn.tree import DecisionTreeClassifier\n",
    "treeclf = DecisionTreeClassifier(max_depth=3, random_state=1)\n",
    "treeclf.fit(X, y)"
   ]
  },
  {
   "cell_type": "code",
   "execution_count": 277,
   "metadata": {
    "collapsed": false
   },
   "outputs": [
    {
     "name": "stdout",
     "output_type": "stream",
     "text": [
      "1\n"
     ]
    },
    {
     "name": "stderr",
     "output_type": "stream",
     "text": [
      "/Users/Allison/anaconda/lib/python2.7/site-packages/sklearn/cross_validation.py:516: Warning: The least populated class in y has only 1 members, which is too few. The minimum number of labels for any class cannot be less than n_folds=5.\n",
      "  % (min_labels, self.n_folds)), Warning)\n"
     ]
    },
    {
     "name": "stdout",
     "output_type": "stream",
     "text": [
      "2\n",
      "3\n",
      "4\n",
      "5\n",
      "6\n",
      "7\n",
      "8\n",
      "9\n",
      "10\n",
      "11\n",
      "12\n",
      "13\n",
      "14\n",
      "15\n",
      "16\n",
      "17\n",
      "18\n",
      "19\n"
     ]
    }
   ],
   "source": [
    "# list of values to try for max_depth\n",
    "max_depth_range = range(1, 20)\n",
    "\n",
    "# list to store the average accuracy for each value of max_depth\n",
    "accuracy_scores = []\n",
    "\n",
    "# use 10-fold cross-validation with each value of max_depth\n",
    "from sklearn.cross_validation import cross_val_score\n",
    "for depth in max_depth_range:\n",
    "    print depth\n",
    "    treeclf = DecisionTreeClassifier(max_depth=depth, random_state=1)\n",
    "    accuracy_scores.append(cross_val_score(treeclf, X, y, cv=5, scoring='accuracy').mean())"
   ]
  },
  {
   "cell_type": "code",
   "execution_count": 306,
   "metadata": {
    "collapsed": false
   },
   "outputs": [
    {
     "data": {
      "text/plain": [
       "[0.27244174001837651,\n",
       " 0.27300456884500079,\n",
       " 0.278185823392881,\n",
       " 0.2896641325039564,\n",
       " 0.29406453842607644,\n",
       " 0.2963393308795591,\n",
       " 0.29734172528899822,\n",
       " 0.29825834222699854,\n",
       " 0.2996283291560069,\n",
       " 0.29895648616647741,\n",
       " 0.29696486859043741,\n",
       " 0.29734338423751822,\n",
       " 0.29344200452606212,\n",
       " 0.28804063483967368,\n",
       " 0.28621975323286292,\n",
       " 0.28177024430090986,\n",
       " 0.27873911114506605,\n",
       " 0.27642897323368459,\n",
       " 0.27531663712118137]"
      ]
     },
     "execution_count": 306,
     "metadata": {},
     "output_type": "execute_result"
    },
    {
     "data": {
      "image/png": "[encoded data removed]",
      "text/plain": [
       "<matplotlib.figure.Figure at 0x163f46a90>"
      ]
     },
     "metadata": {},
     "output_type": "display_data"
    }
   ],
   "source": [
    "# plot max_depth (x-axis) versus accuracy (y-axis)\n",
    "plt.plot(max_depth_range, accuracy_scores)\n",
    "plt.xlabel('max_depth')\n",
    "plt.ylabel('accuracy (higher is better)')\n",
    "accuracy_scores"
   ]
  },
  {
   "cell_type": "code",
   "execution_count": 268,
   "metadata": {
    "collapsed": false
   },
   "outputs": [
    {
     "data": {
      "text/plain": [
       "[(0.27967420188393105, 1),\n",
       " (0.28208549099170371, 2),\n",
       " (0.29216404144280811, 3),\n",
       " (0.29817405646049489, 19),\n",
       " (0.30058247243025527, 18),\n",
       " (0.30312153505064715, 17),\n",
       " (0.30709467211743702, 4),\n",
       " (0.3073023490713212, 16),\n",
       " (0.31164727725767222, 15),\n",
       " (0.31434747334580615, 14),\n",
       " (0.31536768881224314, 5),\n",
       " (0.31937066295483979, 13),\n",
       " (0.32007944468107236, 6),\n",
       " (0.32205284086997976, 7),\n",
       " (0.32323987352434375, 12),\n",
       " (0.32477325422552777, 8),\n",
       " (0.32716274256613281, 10),\n",
       " (0.32734863643085083, 11),\n",
       " (0.33017613186563943, 9)]"
      ]
     },
     "execution_count": 268,
     "metadata": {},
     "output_type": "execute_result"
    }
   ],
   "source": [
    "# show the best accuracy and the corresponding max_depth\n",
    "# sorted(zip(accuracy_scores, max_depth_range))[0]\n",
    "sorted(zip(accuracy_scores, max_depth_range))"
   ]
  },
  {
   "cell_type": "code",
   "execution_count": 269,
   "metadata": {
    "collapsed": false
   },
   "outputs": [
    {
     "data": {
      "text/plain": [
       "DecisionTreeClassifier(class_weight=None, criterion='gini', max_depth=9,\n",
       "            max_features=None, max_leaf_nodes=None, min_samples_leaf=1,\n",
       "            min_samples_split=2, min_weight_fraction_leaf=0.0,\n",
       "            presort=False, random_state=1, splitter='best')"
      ]
     },
     "execution_count": 269,
     "metadata": {},
     "output_type": "execute_result"
    }
   ],
   "source": [
    "# max_depth=9 was best, so fit a tree using that parameter\n",
    "treeclf = DecisionTreeClassifier(max_depth=9, random_state=1)\n",
    "treeclf.fit(X, y)"
   ]
  },
  {
   "cell_type": "code",
   "execution_count": 270,
   "metadata": {
    "collapsed": false
   },
   "outputs": [
    {
     "name": "stderr",
     "output_type": "stream",
     "text": [
      "/Users/Allison/anaconda/lib/python2.7/site-packages/ipykernel/__main__.py:2: FutureWarning: sort(columns=....) is deprecated, use sort_values(by=.....)\n",
      "  from ipykernel import kernelapp as app\n"
     ]
    },
    {
     "data": {
      "text/html": [
       "<div>\n",
       "<table border=\"1\" class=\"dataframe\">\n",
       "  <thead>\n",
       "    <tr style=\"text-align: right;\">\n",
       "      <th></th>\n",
       "      <th>feature</th>\n",
       "      <th>importance</th>\n",
       "    </tr>\n",
       "  </thead>\n",
       "  <tbody>\n",
       "    <tr>\n",
       "      <th>3</th>\n",
       "      <td>morning</td>\n",
       "      <td>0.001821</td>\n",
       "    </tr>\n",
       "    <tr>\n",
       "      <th>6</th>\n",
       "      <td>Weekend</td>\n",
       "      <td>0.022006</td>\n",
       "    </tr>\n",
       "    <tr>\n",
       "      <th>1</th>\n",
       "      <td>mission_16th</td>\n",
       "      <td>0.046991</td>\n",
       "    </tr>\n",
       "    <tr>\n",
       "      <th>2</th>\n",
       "      <td>powell_bart</td>\n",
       "      <td>0.095126</td>\n",
       "    </tr>\n",
       "    <tr>\n",
       "      <th>5</th>\n",
       "      <td>Hour</td>\n",
       "      <td>0.165495</td>\n",
       "    </tr>\n",
       "    <tr>\n",
       "      <th>4</th>\n",
       "      <td>police_station</td>\n",
       "      <td>0.195046</td>\n",
       "    </tr>\n",
       "    <tr>\n",
       "      <th>0</th>\n",
       "      <td>Civic_Bart</td>\n",
       "      <td>0.473514</td>\n",
       "    </tr>\n",
       "  </tbody>\n",
       "</table>\n",
       "</div>"
      ],
      "text/plain": [
       "          feature  importance\n",
       "3         morning    0.001821\n",
       "6         Weekend    0.022006\n",
       "1    mission_16th    0.046991\n",
       "2     powell_bart    0.095126\n",
       "5            Hour    0.165495\n",
       "4  police_station    0.195046\n",
       "0      Civic_Bart    0.473514"
      ]
     },
     "execution_count": 270,
     "metadata": {},
     "output_type": "execute_result"
    }
   ],
   "source": [
    "# compute feature importances\n",
    "pd.DataFrame({'feature':feature_cols, 'importance':treeclf.feature_importances_}).sort('importance')"
   ]
  },
  {
   "cell_type": "code",
   "execution_count": null,
   "metadata": {
    "collapsed": true
   },
   "outputs": [],
   "source": [
    "\n",
    "\n"
   ]
  },
  {
   "cell_type": "code",
   "execution_count": null,
   "metadata": {
    "collapsed": true
   },
   "outputs": [],
   "source": []
  }
 ],
 "metadata": {
  "kernelspec": {
   "display_name": "Python 2",
   "language": "python",
   "name": "python2"
  },
  "language_info": {
   "codemirror_mode": {
    "name": "ipython",
    "version": 2
   },
   "file_extension": ".py",
   "mimetype": "text/x-python",
   "name": "python",
   "nbconvert_exporter": "python",
   "pygments_lexer": "ipython2",
   "version": "2.7.11"
  }
 },
 "nbformat": 4,
 "nbformat_minor": 0
}
